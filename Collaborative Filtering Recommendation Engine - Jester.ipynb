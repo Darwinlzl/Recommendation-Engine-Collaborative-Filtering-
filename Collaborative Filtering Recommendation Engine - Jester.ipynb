{
 "cells": [
  {
   "cell_type": "markdown",
   "id": "ed7ae065",
   "metadata": {},
   "source": [
    "# Jester Collaborative Filtering Recommendation Engine\n",
    "\n",
    "Prepared by: Darwin\n",
    "\n",
    "Instructor: Forward School\n",
    "\n",
    "##### Abstract\n",
    "This assignment is to performing a collaborative filtering on the Jester Dataset with the dimensions of ***7699 by 159 matrix*** and building a recommendation engine for recommending the next *jokes*\n",
    "\n",
    "(http://eigentaste.berkeley.edu/dataset/)."
   ]
  },
  {
   "cell_type": "markdown",
   "id": "36d525a7",
   "metadata": {},
   "source": [
    "## Part 1: Data Understanding\n",
    "**Over 100,000 new ratings from 7,699 total users: data collected from April 2015 - Nov 2019** </br>\n",
    "The text of the jokes: Dataset4JokeSet.xlsx (31 KB)\n",
    "\n",
    "Format:\n",
    "1. An excel sheet with 158 rows.\n",
    "2. The row number corresponds to the joke ID referred to in the Excel files below\n",
    "\n",
    "The Ratings Data: Jester_Rating.xlsx (3 MB)\n",
    "\n",
    "Format:\n",
    "\n",
    "* The data is formatted as an excel file representing a ***7699 by 159 matrix*** with rows as users and columns as jokes. The left-most column represents the amount of jokes rated by each user. There are a total of 7699 users and 158 jokes in this dataset.\n",
    "* Each rating is from (-10.00 to +10.00) and 99 corresponds to a null rating (user did not rate that joke)."
   ]
  },
  {
   "cell_type": "code",
   "execution_count": 1,
   "id": "8309f84e",
   "metadata": {},
   "outputs": [],
   "source": [
    "import numpy as np # linear algebra\n",
    "import pandas as pd # data processing, CSV file I/O (e.g. pd.read_excel)\n",
    "\n",
    "import matplotlib.pyplot as plt #visualization\n",
    "%matplotlib inline"
   ]
  },
  {
   "cell_type": "code",
   "execution_count": 2,
   "id": "87eb7206",
   "metadata": {},
   "outputs": [],
   "source": [
    "# surprise library\n",
    "\n",
    "# For building the dataset (sparse matrix) & ratings\n",
    "from surprise import Dataset, Reader\n",
    "\n",
    "# For run cross-validation or split and search the best parameters for a prediction algorithm\n",
    "from surprise.model_selection import train_test_split, GridSearchCV, cross_validate, KFold\n",
    "\n",
    "# Similarities components, To compute similarity metrics between users or items\n",
    "from surprise.similarities import cosine, msd, pearson, pearson_baseline\n",
    "\n",
    "# k-NN inspired algorithms, *Memory-based Collaborative Filtering*\n",
    "from surprise import KNNBasic, KNNWithMeans, KNNWithZScore\n",
    "\n",
    "# Matrix Factorization-based algorithms, *Model-based Collaborative Filtering*\n",
    "from surprise import SVD, SVDpp\n",
    "\n",
    "# Others Models from Surprise Library, also a *Model-based Collaborative Filtering*\n",
    "from surprise import SlopeOne, CoClustering\n",
    "\n",
    "# to compare result of each models\n",
    "from surprise import accuracy"
   ]
  },
  {
   "cell_type": "code",
   "execution_count": 3,
   "id": "349b67d4",
   "metadata": {},
   "outputs": [
    {
     "data": {
      "text/html": [
       "<div>\n",
       "<style scoped>\n",
       "    .dataframe tbody tr th:only-of-type {\n",
       "        vertical-align: middle;\n",
       "    }\n",
       "\n",
       "    .dataframe tbody tr th {\n",
       "        vertical-align: top;\n",
       "    }\n",
       "\n",
       "    .dataframe thead th {\n",
       "        text-align: right;\n",
       "    }\n",
       "</style>\n",
       "<table border=\"1\" class=\"dataframe\">\n",
       "  <thead>\n",
       "    <tr style=\"text-align: right;\">\n",
       "      <th></th>\n",
       "      <th>jokes</th>\n",
       "    </tr>\n",
       "  </thead>\n",
       "  <tbody>\n",
       "    <tr>\n",
       "      <th>jokes_1</th>\n",
       "      <td>A man visits the doctor. The doctor says \"I ha...</td>\n",
       "    </tr>\n",
       "    <tr>\n",
       "      <th>jokes_2</th>\n",
       "      <td>This couple had an excellent relationship goin...</td>\n",
       "    </tr>\n",
       "    <tr>\n",
       "      <th>jokes_3</th>\n",
       "      <td>Q. What's 200 feet long and has 4 teeth?   A. ...</td>\n",
       "    </tr>\n",
       "    <tr>\n",
       "      <th>jokes_4</th>\n",
       "      <td>Q. What's the difference between a man and a t...</td>\n",
       "    </tr>\n",
       "    <tr>\n",
       "      <th>jokes_5</th>\n",
       "      <td>Q.\\tWhat's O. J. Simpson's Internet address?  ...</td>\n",
       "    </tr>\n",
       "    <tr>\n",
       "      <th>...</th>\n",
       "      <td>...</td>\n",
       "    </tr>\n",
       "    <tr>\n",
       "      <th>jokes_154</th>\n",
       "      <td>Poodle: \"My life is a mess. My owner is mean, ...</td>\n",
       "    </tr>\n",
       "    <tr>\n",
       "      <th>jokes_155</th>\n",
       "      <td>Did you hear that NASA has launched several co...</td>\n",
       "    </tr>\n",
       "    <tr>\n",
       "      <th>jokes_156</th>\n",
       "      <td>A bear walks into a bar and says,\"I'd like a b...</td>\n",
       "    </tr>\n",
       "    <tr>\n",
       "      <th>jokes_157</th>\n",
       "      <td>A dog goes into a bar and orders a martini. Th...</td>\n",
       "    </tr>\n",
       "    <tr>\n",
       "      <th>jokes_158</th>\n",
       "      <td>I'm reading a great book about antigravity -- ...</td>\n",
       "    </tr>\n",
       "  </tbody>\n",
       "</table>\n",
       "<p>158 rows × 1 columns</p>\n",
       "</div>"
      ],
      "text/plain": [
       "                                                       jokes\n",
       "jokes_1    A man visits the doctor. The doctor says \"I ha...\n",
       "jokes_2    This couple had an excellent relationship goin...\n",
       "jokes_3    Q. What's 200 feet long and has 4 teeth?   A. ...\n",
       "jokes_4    Q. What's the difference between a man and a t...\n",
       "jokes_5    Q.\\tWhat's O. J. Simpson's Internet address?  ...\n",
       "...                                                      ...\n",
       "jokes_154  Poodle: \"My life is a mess. My owner is mean, ...\n",
       "jokes_155  Did you hear that NASA has launched several co...\n",
       "jokes_156  A bear walks into a bar and says,\"I'd like a b...\n",
       "jokes_157  A dog goes into a bar and orders a martini. Th...\n",
       "jokes_158  I'm reading a great book about antigravity -- ...\n",
       "\n",
       "[158 rows x 1 columns]"
      ]
     },
     "metadata": {},
     "output_type": "display_data"
    },
    {
     "name": "stdout",
     "output_type": "stream",
     "text": [
      "Q: How do you keep a computer programmer in the  shower all day long?  A: Give them a shampoo with a label that says \"rinse, lather, repeat\".\n"
     ]
    }
   ],
   "source": [
    "# Import jokes text\n",
    "df_jokes = pd.read_excel('Data/Dataset4JokeSet.xlsx', header=None, names = ['jokes'])\n",
    "\n",
    "# Shift the index by 1, and add a prefix for easier representations & visualization\n",
    "df_jokes.set_index('jokes_' + (df_jokes.index + 1).astype(str), inplace = True )\n",
    "\n",
    "display(df_jokes)\n",
    "print(df_jokes['jokes']['jokes_82'])"
   ]
  },
  {
   "cell_type": "code",
   "execution_count": 4,
   "id": "f1763785",
   "metadata": {},
   "outputs": [
    {
     "data": {
      "text/html": [
       "<div>\n",
       "<style scoped>\n",
       "    .dataframe tbody tr th:only-of-type {\n",
       "        vertical-align: middle;\n",
       "    }\n",
       "\n",
       "    .dataframe tbody tr th {\n",
       "        vertical-align: top;\n",
       "    }\n",
       "\n",
       "    .dataframe thead th {\n",
       "        text-align: right;\n",
       "    }\n",
       "</style>\n",
       "<table border=\"1\" class=\"dataframe\">\n",
       "  <thead>\n",
       "    <tr style=\"text-align: right;\">\n",
       "      <th></th>\n",
       "      <th>0</th>\n",
       "      <th>1</th>\n",
       "      <th>2</th>\n",
       "      <th>3</th>\n",
       "      <th>4</th>\n",
       "      <th>5</th>\n",
       "      <th>6</th>\n",
       "      <th>7</th>\n",
       "      <th>8</th>\n",
       "      <th>9</th>\n",
       "      <th>...</th>\n",
       "      <th>149</th>\n",
       "      <th>150</th>\n",
       "      <th>151</th>\n",
       "      <th>152</th>\n",
       "      <th>153</th>\n",
       "      <th>154</th>\n",
       "      <th>155</th>\n",
       "      <th>156</th>\n",
       "      <th>157</th>\n",
       "      <th>158</th>\n",
       "    </tr>\n",
       "  </thead>\n",
       "  <tbody>\n",
       "    <tr>\n",
       "      <th>0</th>\n",
       "      <td>1.0</td>\n",
       "      <td>99.0</td>\n",
       "      <td>99.0</td>\n",
       "      <td>99.0</td>\n",
       "      <td>99.0</td>\n",
       "      <td>99.0</td>\n",
       "      <td>99.0</td>\n",
       "      <td>99.0</td>\n",
       "      <td>99.0</td>\n",
       "      <td>99.0</td>\n",
       "      <td>...</td>\n",
       "      <td>99.00</td>\n",
       "      <td>99.00</td>\n",
       "      <td>99.00</td>\n",
       "      <td>99.00</td>\n",
       "      <td>99.00</td>\n",
       "      <td>99.0</td>\n",
       "      <td>99.00</td>\n",
       "      <td>99.00</td>\n",
       "      <td>99.00</td>\n",
       "      <td>99.00</td>\n",
       "    </tr>\n",
       "    <tr>\n",
       "      <th>1</th>\n",
       "      <td>1.0</td>\n",
       "      <td>99.0</td>\n",
       "      <td>99.0</td>\n",
       "      <td>99.0</td>\n",
       "      <td>99.0</td>\n",
       "      <td>99.0</td>\n",
       "      <td>99.0</td>\n",
       "      <td>99.0</td>\n",
       "      <td>99.0</td>\n",
       "      <td>99.0</td>\n",
       "      <td>...</td>\n",
       "      <td>99.00</td>\n",
       "      <td>99.00</td>\n",
       "      <td>99.00</td>\n",
       "      <td>99.00</td>\n",
       "      <td>99.00</td>\n",
       "      <td>99.0</td>\n",
       "      <td>99.00</td>\n",
       "      <td>99.00</td>\n",
       "      <td>99.00</td>\n",
       "      <td>99.00</td>\n",
       "    </tr>\n",
       "    <tr>\n",
       "      <th>2</th>\n",
       "      <td>4.0</td>\n",
       "      <td>99.0</td>\n",
       "      <td>99.0</td>\n",
       "      <td>99.0</td>\n",
       "      <td>99.0</td>\n",
       "      <td>99.0</td>\n",
       "      <td>99.0</td>\n",
       "      <td>99.0</td>\n",
       "      <td>99.0</td>\n",
       "      <td>99.0</td>\n",
       "      <td>...</td>\n",
       "      <td>99.00</td>\n",
       "      <td>99.00</td>\n",
       "      <td>99.00</td>\n",
       "      <td>99.00</td>\n",
       "      <td>99.00</td>\n",
       "      <td>99.0</td>\n",
       "      <td>99.00</td>\n",
       "      <td>99.00</td>\n",
       "      <td>99.00</td>\n",
       "      <td>99.00</td>\n",
       "    </tr>\n",
       "    <tr>\n",
       "      <th>3</th>\n",
       "      <td>47.0</td>\n",
       "      <td>99.0</td>\n",
       "      <td>99.0</td>\n",
       "      <td>99.0</td>\n",
       "      <td>99.0</td>\n",
       "      <td>99.0</td>\n",
       "      <td>99.0</td>\n",
       "      <td>99.0</td>\n",
       "      <td>99.0</td>\n",
       "      <td>99.0</td>\n",
       "      <td>...</td>\n",
       "      <td>99.00</td>\n",
       "      <td>99.00</td>\n",
       "      <td>5.61</td>\n",
       "      <td>-4.51</td>\n",
       "      <td>0.00</td>\n",
       "      <td>0.0</td>\n",
       "      <td>99.00</td>\n",
       "      <td>0.00</td>\n",
       "      <td>5.93</td>\n",
       "      <td>4.19</td>\n",
       "    </tr>\n",
       "    <tr>\n",
       "      <th>4</th>\n",
       "      <td>13.0</td>\n",
       "      <td>99.0</td>\n",
       "      <td>99.0</td>\n",
       "      <td>99.0</td>\n",
       "      <td>99.0</td>\n",
       "      <td>99.0</td>\n",
       "      <td>99.0</td>\n",
       "      <td>99.0</td>\n",
       "      <td>99.0</td>\n",
       "      <td>99.0</td>\n",
       "      <td>...</td>\n",
       "      <td>99.00</td>\n",
       "      <td>99.00</td>\n",
       "      <td>99.00</td>\n",
       "      <td>99.00</td>\n",
       "      <td>99.00</td>\n",
       "      <td>0.0</td>\n",
       "      <td>99.00</td>\n",
       "      <td>99.00</td>\n",
       "      <td>99.00</td>\n",
       "      <td>0.00</td>\n",
       "    </tr>\n",
       "    <tr>\n",
       "      <th>...</th>\n",
       "      <td>...</td>\n",
       "      <td>...</td>\n",
       "      <td>...</td>\n",
       "      <td>...</td>\n",
       "      <td>...</td>\n",
       "      <td>...</td>\n",
       "      <td>...</td>\n",
       "      <td>...</td>\n",
       "      <td>...</td>\n",
       "      <td>...</td>\n",
       "      <td>...</td>\n",
       "      <td>...</td>\n",
       "      <td>...</td>\n",
       "      <td>...</td>\n",
       "      <td>...</td>\n",
       "      <td>...</td>\n",
       "      <td>...</td>\n",
       "      <td>...</td>\n",
       "      <td>...</td>\n",
       "      <td>...</td>\n",
       "      <td>...</td>\n",
       "    </tr>\n",
       "    <tr>\n",
       "      <th>7694</th>\n",
       "      <td>27.0</td>\n",
       "      <td>99.0</td>\n",
       "      <td>99.0</td>\n",
       "      <td>99.0</td>\n",
       "      <td>99.0</td>\n",
       "      <td>99.0</td>\n",
       "      <td>99.0</td>\n",
       "      <td>99.0</td>\n",
       "      <td>99.0</td>\n",
       "      <td>99.0</td>\n",
       "      <td>...</td>\n",
       "      <td>0.00</td>\n",
       "      <td>99.00</td>\n",
       "      <td>0.00</td>\n",
       "      <td>0.00</td>\n",
       "      <td>0.00</td>\n",
       "      <td>99.0</td>\n",
       "      <td>0.00</td>\n",
       "      <td>0.00</td>\n",
       "      <td>0.00</td>\n",
       "      <td>99.00</td>\n",
       "    </tr>\n",
       "    <tr>\n",
       "      <th>7695</th>\n",
       "      <td>1.0</td>\n",
       "      <td>99.0</td>\n",
       "      <td>99.0</td>\n",
       "      <td>99.0</td>\n",
       "      <td>99.0</td>\n",
       "      <td>99.0</td>\n",
       "      <td>99.0</td>\n",
       "      <td>99.0</td>\n",
       "      <td>99.0</td>\n",
       "      <td>99.0</td>\n",
       "      <td>...</td>\n",
       "      <td>99.00</td>\n",
       "      <td>99.00</td>\n",
       "      <td>99.00</td>\n",
       "      <td>99.00</td>\n",
       "      <td>99.00</td>\n",
       "      <td>99.0</td>\n",
       "      <td>99.00</td>\n",
       "      <td>99.00</td>\n",
       "      <td>99.00</td>\n",
       "      <td>99.00</td>\n",
       "    </tr>\n",
       "    <tr>\n",
       "      <th>7696</th>\n",
       "      <td>26.0</td>\n",
       "      <td>99.0</td>\n",
       "      <td>99.0</td>\n",
       "      <td>99.0</td>\n",
       "      <td>99.0</td>\n",
       "      <td>99.0</td>\n",
       "      <td>99.0</td>\n",
       "      <td>99.0</td>\n",
       "      <td>99.0</td>\n",
       "      <td>99.0</td>\n",
       "      <td>...</td>\n",
       "      <td>99.00</td>\n",
       "      <td>8.63</td>\n",
       "      <td>99.00</td>\n",
       "      <td>6.76</td>\n",
       "      <td>0.00</td>\n",
       "      <td>3.5</td>\n",
       "      <td>6.26</td>\n",
       "      <td>99.00</td>\n",
       "      <td>-2.66</td>\n",
       "      <td>0.65</td>\n",
       "    </tr>\n",
       "    <tr>\n",
       "      <th>7697</th>\n",
       "      <td>64.0</td>\n",
       "      <td>99.0</td>\n",
       "      <td>99.0</td>\n",
       "      <td>99.0</td>\n",
       "      <td>99.0</td>\n",
       "      <td>99.0</td>\n",
       "      <td>99.0</td>\n",
       "      <td>99.0</td>\n",
       "      <td>99.0</td>\n",
       "      <td>99.0</td>\n",
       "      <td>...</td>\n",
       "      <td>2.03</td>\n",
       "      <td>99.00</td>\n",
       "      <td>2.05</td>\n",
       "      <td>2.05</td>\n",
       "      <td>0.73</td>\n",
       "      <td>0.0</td>\n",
       "      <td>2.97</td>\n",
       "      <td>0.57</td>\n",
       "      <td>0.00</td>\n",
       "      <td>0.00</td>\n",
       "    </tr>\n",
       "    <tr>\n",
       "      <th>7698</th>\n",
       "      <td>2.0</td>\n",
       "      <td>99.0</td>\n",
       "      <td>99.0</td>\n",
       "      <td>99.0</td>\n",
       "      <td>99.0</td>\n",
       "      <td>99.0</td>\n",
       "      <td>99.0</td>\n",
       "      <td>99.0</td>\n",
       "      <td>99.0</td>\n",
       "      <td>99.0</td>\n",
       "      <td>...</td>\n",
       "      <td>99.00</td>\n",
       "      <td>99.00</td>\n",
       "      <td>99.00</td>\n",
       "      <td>99.00</td>\n",
       "      <td>99.00</td>\n",
       "      <td>99.0</td>\n",
       "      <td>99.00</td>\n",
       "      <td>99.00</td>\n",
       "      <td>99.00</td>\n",
       "      <td>99.00</td>\n",
       "    </tr>\n",
       "  </tbody>\n",
       "</table>\n",
       "<p>7699 rows × 159 columns</p>\n",
       "</div>"
      ],
      "text/plain": [
       "       0     1     2     3     4     5     6     7     8     9    ...    149  \\\n",
       "0      1.0  99.0  99.0  99.0  99.0  99.0  99.0  99.0  99.0  99.0  ...  99.00   \n",
       "1      1.0  99.0  99.0  99.0  99.0  99.0  99.0  99.0  99.0  99.0  ...  99.00   \n",
       "2      4.0  99.0  99.0  99.0  99.0  99.0  99.0  99.0  99.0  99.0  ...  99.00   \n",
       "3     47.0  99.0  99.0  99.0  99.0  99.0  99.0  99.0  99.0  99.0  ...  99.00   \n",
       "4     13.0  99.0  99.0  99.0  99.0  99.0  99.0  99.0  99.0  99.0  ...  99.00   \n",
       "...    ...   ...   ...   ...   ...   ...   ...   ...   ...   ...  ...    ...   \n",
       "7694  27.0  99.0  99.0  99.0  99.0  99.0  99.0  99.0  99.0  99.0  ...   0.00   \n",
       "7695   1.0  99.0  99.0  99.0  99.0  99.0  99.0  99.0  99.0  99.0  ...  99.00   \n",
       "7696  26.0  99.0  99.0  99.0  99.0  99.0  99.0  99.0  99.0  99.0  ...  99.00   \n",
       "7697  64.0  99.0  99.0  99.0  99.0  99.0  99.0  99.0  99.0  99.0  ...   2.03   \n",
       "7698   2.0  99.0  99.0  99.0  99.0  99.0  99.0  99.0  99.0  99.0  ...  99.00   \n",
       "\n",
       "        150    151    152    153   154    155    156    157    158  \n",
       "0     99.00  99.00  99.00  99.00  99.0  99.00  99.00  99.00  99.00  \n",
       "1     99.00  99.00  99.00  99.00  99.0  99.00  99.00  99.00  99.00  \n",
       "2     99.00  99.00  99.00  99.00  99.0  99.00  99.00  99.00  99.00  \n",
       "3     99.00   5.61  -4.51   0.00   0.0  99.00   0.00   5.93   4.19  \n",
       "4     99.00  99.00  99.00  99.00   0.0  99.00  99.00  99.00   0.00  \n",
       "...     ...    ...    ...    ...   ...    ...    ...    ...    ...  \n",
       "7694  99.00   0.00   0.00   0.00  99.0   0.00   0.00   0.00  99.00  \n",
       "7695  99.00  99.00  99.00  99.00  99.0  99.00  99.00  99.00  99.00  \n",
       "7696   8.63  99.00   6.76   0.00   3.5   6.26  99.00  -2.66   0.65  \n",
       "7697  99.00   2.05   2.05   0.73   0.0   2.97   0.57   0.00   0.00  \n",
       "7698  99.00  99.00  99.00  99.00  99.0  99.00  99.00  99.00  99.00  \n",
       "\n",
       "[7699 rows x 159 columns]"
      ]
     },
     "metadata": {},
     "output_type": "display_data"
    }
   ],
   "source": [
    "## import 7699 by 159 matrix ratings\n",
    "df_ratings = pd.read_excel('Data/Jester_Rating.xlsx', header=None)\n",
    "display(df_ratings)"
   ]
  },
  {
   "cell_type": "markdown",
   "id": "24f490eb",
   "metadata": {},
   "source": [
    "### 1.1: Describe Data\n",
    "\n",
    "* There are 158 columns (represent each 158 jokes) inside the dataset, and all of the datatype are **float**.\n",
    "* Each rating is from (-10.00 to +10.00)\n",
    "* 99 corresponds to a null rating (user did not rate that joke)\n",
    "* Since Recommendation Engine is a unsupervised learning, there are no Y variables here"
   ]
  },
  {
   "cell_type": "markdown",
   "id": "523c9ffa",
   "metadata": {},
   "source": [
    "## Part 2: Data Manipulation"
   ]
  },
  {
   "cell_type": "code",
   "execution_count": 5,
   "id": "d03b01f1",
   "metadata": {},
   "outputs": [
    {
     "name": "stdout",
     "output_type": "stream",
     "text": [
      "Jokes without any ratings :  Index(['jokes_1', 'jokes_2', 'jokes_3', 'jokes_4', 'jokes_5', 'jokes_6',\n",
      "       'jokes_9', 'jokes_10', 'jokes_11', 'jokes_12', 'jokes_14', 'jokes_20',\n",
      "       'jokes_27', 'jokes_31', 'jokes_43', 'jokes_51', 'jokes_52', 'jokes_61',\n",
      "       'jokes_73', 'jokes_80', 'jokes_100', 'jokes_116'],\n",
      "      dtype='object')\n",
      "Memory Size before datatype conversion & manipulation: 9.34 MB\n",
      "Memory Size after  datatype conversion & manipulation: 3.99 MB\n"
     ]
    },
    {
     "data": {
      "text/html": [
       "<div>\n",
       "<style scoped>\n",
       "    .dataframe tbody tr th:only-of-type {\n",
       "        vertical-align: middle;\n",
       "    }\n",
       "\n",
       "    .dataframe tbody tr th {\n",
       "        vertical-align: top;\n",
       "    }\n",
       "\n",
       "    .dataframe thead th {\n",
       "        text-align: right;\n",
       "    }\n",
       "</style>\n",
       "<table border=\"1\" class=\"dataframe\">\n",
       "  <thead>\n",
       "    <tr style=\"text-align: right;\">\n",
       "      <th></th>\n",
       "      <th>jokes_7</th>\n",
       "      <th>jokes_8</th>\n",
       "      <th>jokes_13</th>\n",
       "      <th>jokes_15</th>\n",
       "      <th>jokes_16</th>\n",
       "      <th>jokes_17</th>\n",
       "      <th>jokes_18</th>\n",
       "      <th>jokes_19</th>\n",
       "      <th>jokes_21</th>\n",
       "      <th>jokes_22</th>\n",
       "      <th>...</th>\n",
       "      <th>jokes_149</th>\n",
       "      <th>jokes_150</th>\n",
       "      <th>jokes_151</th>\n",
       "      <th>jokes_152</th>\n",
       "      <th>jokes_153</th>\n",
       "      <th>jokes_154</th>\n",
       "      <th>jokes_155</th>\n",
       "      <th>jokes_156</th>\n",
       "      <th>jokes_157</th>\n",
       "      <th>jokes_158</th>\n",
       "    </tr>\n",
       "  </thead>\n",
       "  <tbody>\n",
       "    <tr>\n",
       "      <th>0</th>\n",
       "      <td>NaN</td>\n",
       "      <td>NaN</td>\n",
       "      <td>NaN</td>\n",
       "      <td>NaN</td>\n",
       "      <td>NaN</td>\n",
       "      <td>NaN</td>\n",
       "      <td>NaN</td>\n",
       "      <td>NaN</td>\n",
       "      <td>NaN</td>\n",
       "      <td>NaN</td>\n",
       "      <td>...</td>\n",
       "      <td>NaN</td>\n",
       "      <td>NaN</td>\n",
       "      <td>NaN</td>\n",
       "      <td>NaN</td>\n",
       "      <td>NaN</td>\n",
       "      <td>NaN</td>\n",
       "      <td>NaN</td>\n",
       "      <td>NaN</td>\n",
       "      <td>NaN</td>\n",
       "      <td>NaN</td>\n",
       "    </tr>\n",
       "    <tr>\n",
       "      <th>1</th>\n",
       "      <td>NaN</td>\n",
       "      <td>NaN</td>\n",
       "      <td>NaN</td>\n",
       "      <td>NaN</td>\n",
       "      <td>NaN</td>\n",
       "      <td>NaN</td>\n",
       "      <td>NaN</td>\n",
       "      <td>NaN</td>\n",
       "      <td>NaN</td>\n",
       "      <td>NaN</td>\n",
       "      <td>...</td>\n",
       "      <td>NaN</td>\n",
       "      <td>NaN</td>\n",
       "      <td>NaN</td>\n",
       "      <td>NaN</td>\n",
       "      <td>NaN</td>\n",
       "      <td>NaN</td>\n",
       "      <td>NaN</td>\n",
       "      <td>NaN</td>\n",
       "      <td>NaN</td>\n",
       "      <td>NaN</td>\n",
       "    </tr>\n",
       "    <tr>\n",
       "      <th>2</th>\n",
       "      <td>NaN</td>\n",
       "      <td>NaN</td>\n",
       "      <td>NaN</td>\n",
       "      <td>NaN</td>\n",
       "      <td>NaN</td>\n",
       "      <td>NaN</td>\n",
       "      <td>NaN</td>\n",
       "      <td>-5.98</td>\n",
       "      <td>NaN</td>\n",
       "      <td>NaN</td>\n",
       "      <td>...</td>\n",
       "      <td>NaN</td>\n",
       "      <td>NaN</td>\n",
       "      <td>NaN</td>\n",
       "      <td>NaN</td>\n",
       "      <td>NaN</td>\n",
       "      <td>NaN</td>\n",
       "      <td>NaN</td>\n",
       "      <td>NaN</td>\n",
       "      <td>NaN</td>\n",
       "      <td>NaN</td>\n",
       "    </tr>\n",
       "    <tr>\n",
       "      <th>3</th>\n",
       "      <td>NaN</td>\n",
       "      <td>NaN</td>\n",
       "      <td>NaN</td>\n",
       "      <td>NaN</td>\n",
       "      <td>NaN</td>\n",
       "      <td>NaN</td>\n",
       "      <td>NaN</td>\n",
       "      <td>-5.41</td>\n",
       "      <td>-4.59</td>\n",
       "      <td>NaN</td>\n",
       "      <td>...</td>\n",
       "      <td>NaN</td>\n",
       "      <td>NaN</td>\n",
       "      <td>5.61</td>\n",
       "      <td>-4.51</td>\n",
       "      <td>0.00</td>\n",
       "      <td>0.0</td>\n",
       "      <td>NaN</td>\n",
       "      <td>0.00</td>\n",
       "      <td>5.93</td>\n",
       "      <td>4.19</td>\n",
       "    </tr>\n",
       "    <tr>\n",
       "      <th>4</th>\n",
       "      <td>NaN</td>\n",
       "      <td>NaN</td>\n",
       "      <td>NaN</td>\n",
       "      <td>NaN</td>\n",
       "      <td>NaN</td>\n",
       "      <td>NaN</td>\n",
       "      <td>NaN</td>\n",
       "      <td>-7.72</td>\n",
       "      <td>NaN</td>\n",
       "      <td>NaN</td>\n",
       "      <td>...</td>\n",
       "      <td>NaN</td>\n",
       "      <td>NaN</td>\n",
       "      <td>NaN</td>\n",
       "      <td>NaN</td>\n",
       "      <td>NaN</td>\n",
       "      <td>0.0</td>\n",
       "      <td>NaN</td>\n",
       "      <td>NaN</td>\n",
       "      <td>NaN</td>\n",
       "      <td>0.00</td>\n",
       "    </tr>\n",
       "    <tr>\n",
       "      <th>...</th>\n",
       "      <td>...</td>\n",
       "      <td>...</td>\n",
       "      <td>...</td>\n",
       "      <td>...</td>\n",
       "      <td>...</td>\n",
       "      <td>...</td>\n",
       "      <td>...</td>\n",
       "      <td>...</td>\n",
       "      <td>...</td>\n",
       "      <td>...</td>\n",
       "      <td>...</td>\n",
       "      <td>...</td>\n",
       "      <td>...</td>\n",
       "      <td>...</td>\n",
       "      <td>...</td>\n",
       "      <td>...</td>\n",
       "      <td>...</td>\n",
       "      <td>...</td>\n",
       "      <td>...</td>\n",
       "      <td>...</td>\n",
       "      <td>...</td>\n",
       "    </tr>\n",
       "    <tr>\n",
       "      <th>7694</th>\n",
       "      <td>NaN</td>\n",
       "      <td>NaN</td>\n",
       "      <td>NaN</td>\n",
       "      <td>NaN</td>\n",
       "      <td>NaN</td>\n",
       "      <td>NaN</td>\n",
       "      <td>NaN</td>\n",
       "      <td>0.00</td>\n",
       "      <td>0.00</td>\n",
       "      <td>NaN</td>\n",
       "      <td>...</td>\n",
       "      <td>0.00</td>\n",
       "      <td>NaN</td>\n",
       "      <td>0.00</td>\n",
       "      <td>0.00</td>\n",
       "      <td>0.00</td>\n",
       "      <td>NaN</td>\n",
       "      <td>0.00</td>\n",
       "      <td>0.00</td>\n",
       "      <td>0.00</td>\n",
       "      <td>NaN</td>\n",
       "    </tr>\n",
       "    <tr>\n",
       "      <th>7695</th>\n",
       "      <td>NaN</td>\n",
       "      <td>NaN</td>\n",
       "      <td>NaN</td>\n",
       "      <td>NaN</td>\n",
       "      <td>NaN</td>\n",
       "      <td>NaN</td>\n",
       "      <td>NaN</td>\n",
       "      <td>-9.51</td>\n",
       "      <td>NaN</td>\n",
       "      <td>NaN</td>\n",
       "      <td>...</td>\n",
       "      <td>NaN</td>\n",
       "      <td>NaN</td>\n",
       "      <td>NaN</td>\n",
       "      <td>NaN</td>\n",
       "      <td>NaN</td>\n",
       "      <td>NaN</td>\n",
       "      <td>NaN</td>\n",
       "      <td>NaN</td>\n",
       "      <td>NaN</td>\n",
       "      <td>NaN</td>\n",
       "    </tr>\n",
       "    <tr>\n",
       "      <th>7696</th>\n",
       "      <td>NaN</td>\n",
       "      <td>NaN</td>\n",
       "      <td>NaN</td>\n",
       "      <td>NaN</td>\n",
       "      <td>NaN</td>\n",
       "      <td>NaN</td>\n",
       "      <td>NaN</td>\n",
       "      <td>-7.93</td>\n",
       "      <td>NaN</td>\n",
       "      <td>NaN</td>\n",
       "      <td>...</td>\n",
       "      <td>NaN</td>\n",
       "      <td>8.63</td>\n",
       "      <td>NaN</td>\n",
       "      <td>6.76</td>\n",
       "      <td>0.00</td>\n",
       "      <td>3.5</td>\n",
       "      <td>6.26</td>\n",
       "      <td>NaN</td>\n",
       "      <td>-2.66</td>\n",
       "      <td>0.65</td>\n",
       "    </tr>\n",
       "    <tr>\n",
       "      <th>7697</th>\n",
       "      <td>NaN</td>\n",
       "      <td>NaN</td>\n",
       "      <td>NaN</td>\n",
       "      <td>NaN</td>\n",
       "      <td>NaN</td>\n",
       "      <td>NaN</td>\n",
       "      <td>NaN</td>\n",
       "      <td>2.52</td>\n",
       "      <td>5.37</td>\n",
       "      <td>NaN</td>\n",
       "      <td>...</td>\n",
       "      <td>2.03</td>\n",
       "      <td>NaN</td>\n",
       "      <td>2.05</td>\n",
       "      <td>2.05</td>\n",
       "      <td>0.73</td>\n",
       "      <td>0.0</td>\n",
       "      <td>2.97</td>\n",
       "      <td>0.57</td>\n",
       "      <td>0.00</td>\n",
       "      <td>0.00</td>\n",
       "    </tr>\n",
       "    <tr>\n",
       "      <th>7698</th>\n",
       "      <td>NaN</td>\n",
       "      <td>NaN</td>\n",
       "      <td>NaN</td>\n",
       "      <td>NaN</td>\n",
       "      <td>NaN</td>\n",
       "      <td>NaN</td>\n",
       "      <td>NaN</td>\n",
       "      <td>4.59</td>\n",
       "      <td>NaN</td>\n",
       "      <td>NaN</td>\n",
       "      <td>...</td>\n",
       "      <td>NaN</td>\n",
       "      <td>NaN</td>\n",
       "      <td>NaN</td>\n",
       "      <td>NaN</td>\n",
       "      <td>NaN</td>\n",
       "      <td>NaN</td>\n",
       "      <td>NaN</td>\n",
       "      <td>NaN</td>\n",
       "      <td>NaN</td>\n",
       "      <td>NaN</td>\n",
       "    </tr>\n",
       "  </tbody>\n",
       "</table>\n",
       "<p>7699 rows × 136 columns</p>\n",
       "</div>"
      ],
      "text/plain": [
       "      jokes_7  jokes_8  jokes_13  jokes_15  jokes_16  jokes_17  jokes_18  \\\n",
       "0         NaN      NaN       NaN       NaN       NaN       NaN       NaN   \n",
       "1         NaN      NaN       NaN       NaN       NaN       NaN       NaN   \n",
       "2         NaN      NaN       NaN       NaN       NaN       NaN       NaN   \n",
       "3         NaN      NaN       NaN       NaN       NaN       NaN       NaN   \n",
       "4         NaN      NaN       NaN       NaN       NaN       NaN       NaN   \n",
       "...       ...      ...       ...       ...       ...       ...       ...   \n",
       "7694      NaN      NaN       NaN       NaN       NaN       NaN       NaN   \n",
       "7695      NaN      NaN       NaN       NaN       NaN       NaN       NaN   \n",
       "7696      NaN      NaN       NaN       NaN       NaN       NaN       NaN   \n",
       "7697      NaN      NaN       NaN       NaN       NaN       NaN       NaN   \n",
       "7698      NaN      NaN       NaN       NaN       NaN       NaN       NaN   \n",
       "\n",
       "      jokes_19  jokes_21  jokes_22  ...  jokes_149  jokes_150  jokes_151  \\\n",
       "0          NaN       NaN       NaN  ...        NaN        NaN        NaN   \n",
       "1          NaN       NaN       NaN  ...        NaN        NaN        NaN   \n",
       "2        -5.98       NaN       NaN  ...        NaN        NaN        NaN   \n",
       "3        -5.41     -4.59       NaN  ...        NaN        NaN       5.61   \n",
       "4        -7.72       NaN       NaN  ...        NaN        NaN        NaN   \n",
       "...        ...       ...       ...  ...        ...        ...        ...   \n",
       "7694      0.00      0.00       NaN  ...       0.00        NaN       0.00   \n",
       "7695     -9.51       NaN       NaN  ...        NaN        NaN        NaN   \n",
       "7696     -7.93       NaN       NaN  ...        NaN       8.63        NaN   \n",
       "7697      2.52      5.37       NaN  ...       2.03        NaN       2.05   \n",
       "7698      4.59       NaN       NaN  ...        NaN        NaN        NaN   \n",
       "\n",
       "      jokes_152  jokes_153  jokes_154  jokes_155  jokes_156  jokes_157  \\\n",
       "0           NaN        NaN        NaN        NaN        NaN        NaN   \n",
       "1           NaN        NaN        NaN        NaN        NaN        NaN   \n",
       "2           NaN        NaN        NaN        NaN        NaN        NaN   \n",
       "3         -4.51       0.00        0.0        NaN       0.00       5.93   \n",
       "4           NaN        NaN        0.0        NaN        NaN        NaN   \n",
       "...         ...        ...        ...        ...        ...        ...   \n",
       "7694       0.00       0.00        NaN       0.00       0.00       0.00   \n",
       "7695        NaN        NaN        NaN        NaN        NaN        NaN   \n",
       "7696       6.76       0.00        3.5       6.26        NaN      -2.66   \n",
       "7697       2.05       0.73        0.0       2.97       0.57       0.00   \n",
       "7698        NaN        NaN        NaN        NaN        NaN        NaN   \n",
       "\n",
       "      jokes_158  \n",
       "0           NaN  \n",
       "1           NaN  \n",
       "2           NaN  \n",
       "3          4.19  \n",
       "4          0.00  \n",
       "...         ...  \n",
       "7694        NaN  \n",
       "7695        NaN  \n",
       "7696       0.65  \n",
       "7697       0.00  \n",
       "7698        NaN  \n",
       "\n",
       "[7699 rows x 136 columns]"
      ]
     },
     "metadata": {},
     "output_type": "display_data"
    }
   ],
   "source": [
    "# Original memory usage\n",
    "before  = df_ratings.memory_usage().sum() / 1024 / 1024\n",
    "\n",
    "# removing 1st columns since it only represents the amount of jokes rated by each user\n",
    "df_ratings.drop(0, axis = 1, inplace = True)\n",
    "\n",
    "# rename columns so that it was similar to df_jokes\n",
    "df_ratings = df_ratings.add_prefix('jokes_')\n",
    "\n",
    "#Replacing 99 with actual numpy null values\n",
    "df_ratings.replace(99.0, np.nan, inplace = True)\n",
    "\n",
    "# drop entire column if the entire column is null (no ratings from any users)\n",
    "null_ratings = df_ratings.columns[df_ratings.isnull().all()]\n",
    "df_ratings.dropna(how='all', axis=1, inplace = True)\n",
    "\n",
    "# convert dtypes to float32 for faster processing\n",
    "df_ratings = df_ratings.astype(np.float32) \n",
    "after = df_ratings.memory_usage().sum() / 1024 / 1024\n",
    "print (\"\\n Memory Size before datatype conversion & manipulation: %.2f MB\" %(before))\n",
    "print (\"\\n Memory Size after  datatype conversion & manipulation: %.2f MB\" %(after))\n",
    "\n",
    "print (\"\\n\\n\\n Jokes without any ratings : \" ,null_ratings)\n",
    "display(df_ratings)"
   ]
  },
  {
   "cell_type": "markdown",
   "id": "ecb51c52",
   "metadata": {},
   "source": [
    "> 22 of the jokes don't have ratings, their ids are: {1, 2, 3, 4, 5, 6, 9, 10, 11, 12, 14, 20, 27, 31, 43, 51, 52, 61, 73, 80, 100, 116}."
   ]
  },
  {
   "cell_type": "code",
   "execution_count": 6,
   "id": "0cb54ed0",
   "metadata": {},
   "outputs": [
    {
     "data": {
      "text/html": [
       "<div>\n",
       "<style scoped>\n",
       "    .dataframe tbody tr th:only-of-type {\n",
       "        vertical-align: middle;\n",
       "    }\n",
       "\n",
       "    .dataframe tbody tr th {\n",
       "        vertical-align: top;\n",
       "    }\n",
       "\n",
       "    .dataframe thead th {\n",
       "        text-align: right;\n",
       "    }\n",
       "</style>\n",
       "<table border=\"1\" class=\"dataframe\">\n",
       "  <thead>\n",
       "    <tr style=\"text-align: right;\">\n",
       "      <th></th>\n",
       "      <th>userId</th>\n",
       "      <th>jokesId</th>\n",
       "      <th>rating</th>\n",
       "    </tr>\n",
       "  </thead>\n",
       "  <tbody>\n",
       "    <tr>\n",
       "      <th>0</th>\n",
       "      <td>0</td>\n",
       "      <td>jokes_72</td>\n",
       "      <td>3.70</td>\n",
       "    </tr>\n",
       "    <tr>\n",
       "      <th>1</th>\n",
       "      <td>1</td>\n",
       "      <td>jokes_72</td>\n",
       "      <td>8.21</td>\n",
       "    </tr>\n",
       "    <tr>\n",
       "      <th>2</th>\n",
       "      <td>2</td>\n",
       "      <td>jokes_19</td>\n",
       "      <td>-5.98</td>\n",
       "    </tr>\n",
       "    <tr>\n",
       "      <th>3</th>\n",
       "      <td>2</td>\n",
       "      <td>jokes_35</td>\n",
       "      <td>-4.47</td>\n",
       "    </tr>\n",
       "    <tr>\n",
       "      <th>4</th>\n",
       "      <td>2</td>\n",
       "      <td>jokes_72</td>\n",
       "      <td>1.59</td>\n",
       "    </tr>\n",
       "    <tr>\n",
       "      <th>...</th>\n",
       "      <td>...</td>\n",
       "      <td>...</td>\n",
       "      <td>...</td>\n",
       "    </tr>\n",
       "    <tr>\n",
       "      <th>106484</th>\n",
       "      <td>7697</td>\n",
       "      <td>jokes_156</td>\n",
       "      <td>0.57</td>\n",
       "    </tr>\n",
       "    <tr>\n",
       "      <th>106485</th>\n",
       "      <td>7697</td>\n",
       "      <td>jokes_157</td>\n",
       "      <td>0.00</td>\n",
       "    </tr>\n",
       "    <tr>\n",
       "      <th>106486</th>\n",
       "      <td>7697</td>\n",
       "      <td>jokes_158</td>\n",
       "      <td>0.00</td>\n",
       "    </tr>\n",
       "    <tr>\n",
       "      <th>106487</th>\n",
       "      <td>7698</td>\n",
       "      <td>jokes_19</td>\n",
       "      <td>4.59</td>\n",
       "    </tr>\n",
       "    <tr>\n",
       "      <th>106488</th>\n",
       "      <td>7698</td>\n",
       "      <td>jokes_72</td>\n",
       "      <td>3.86</td>\n",
       "    </tr>\n",
       "  </tbody>\n",
       "</table>\n",
       "<p>106489 rows × 3 columns</p>\n",
       "</div>"
      ],
      "text/plain": [
       "        userId    jokesId  rating\n",
       "0            0   jokes_72    3.70\n",
       "1            1   jokes_72    8.21\n",
       "2            2   jokes_19   -5.98\n",
       "3            2   jokes_35   -4.47\n",
       "4            2   jokes_72    1.59\n",
       "...        ...        ...     ...\n",
       "106484    7697  jokes_156    0.57\n",
       "106485    7697  jokes_157    0.00\n",
       "106486    7697  jokes_158    0.00\n",
       "106487    7698   jokes_19    4.59\n",
       "106488    7698   jokes_72    3.86\n",
       "\n",
       "[106489 rows x 3 columns]"
      ]
     },
     "execution_count": 6,
     "metadata": {},
     "output_type": "execute_result"
    }
   ],
   "source": [
    "df_stack = df_ratings.stack().reset_index()\n",
    "df_stack.columns = ['userId', 'jokesId', 'rating']\n",
    "df_stack"
   ]
  },
  {
   "cell_type": "markdown",
   "id": "6832af7c",
   "metadata": {},
   "source": [
    "# Part 3: Data Preparation"
   ]
  },
  {
   "cell_type": "markdown",
   "id": "192d4f19",
   "metadata": {},
   "source": [
    "Within the group of collaborative filtering, the two most well-known distinct approaches are:\n",
    "\n",
    "* `Memory-based models`, which calculate the similarities between users / items based on user-item rating pairs.\n",
    "    > Example : `K-Neareast Neighbors` of the **item-item** ratings matrix\n",
    "\n",
    "* `Model-based models`, which use some sort of machine learning algorithm to estimate the ratings. \n",
    "    > Example : `Singular Value Decomposition` of the **user-item** ratings matrix."
   ]
  },
  {
   "cell_type": "code",
   "execution_count": 13,
   "id": "c0df6328",
   "metadata": {},
   "outputs": [
    {
     "name": "stdout",
     "output_type": "stream",
     "text": [
      "Number of users  :  7407 \n",
      "\n",
      "Number of items  :  136 \n",
      "\n",
      "Number of ratings:  85191 \n",
      "\n",
      "Rating Scale:  (-10.0, 10.0) \n",
      "\n",
      "Global Mean :  0.5022379127729938 \n",
      "\n",
      "Length of Testset :  21298 \n",
      "\n"
     ]
    }
   ],
   "source": [
    "# Creating a Suprise Reader with rating_scale as a tuple of lowest and highest possible range\n",
    "reader = Reader(rating_scale = (-10.0, 10.0))\n",
    "\n",
    "# Convert data into a sparse matrix where individual ratings are elements in this matrix\n",
    "data = Dataset.load_from_df(df_stack[['userId', 'jokesId', 'rating']], reader)"
   ]
  },
  {
   "cell_type": "code",
   "execution_count": 16,
   "id": "7c560feb",
   "metadata": {},
   "outputs": [
    {
     "name": "stdout",
     "output_type": "stream",
     "text": [
      "Number of users  :  7407 \n",
      "\n",
      "Number of items  :  136 \n",
      "\n",
      "Number of ratings:  85191 \n",
      "\n",
      "Rating Scale:  (-10.0, 10.0) \n",
      "\n",
      "Global Mean :  0.5022379127729938 \n",
      "\n",
      "\n",
      "Length of Testset :  21298 \n",
      "\n",
      "\n",
      "\n",
      "\n",
      "Example of inner id  :  [0, 1, 2, 3, 4] \n",
      "\n",
      "Example of raw id    :  ['jokes_72', 'jokes_117', 'jokes_107', 'jokes_19', 'jokes_77'] \n",
      "\n"
     ]
    }
   ],
   "source": [
    "# splitting the data into trainset and testset, test_size is set to 20%:\n",
    "trainset, testset = train_test_split(data, test_size=0.20, random_state = 42)\n",
    "\n",
    "print('Number of users  : ', trainset.n_users, '\\n')\n",
    "print('Number of items  : ', trainset.n_items, '\\n')\n",
    "print('Number of ratings: ', trainset.n_ratings, '\\n')\n",
    "print('Rating Scale: ', trainset.rating_scale, '\\n')\n",
    "print('Global Mean : ', trainset.global_mean, '\\n\\n')\n",
    "print('Length of Testset : ', len(testset), '\\n\\n\\n\\n')\n",
    "\n",
    "# Convert an item inner id to a raw id, \n",
    "trainset_iids = list(trainset.all_items())\n",
    "iid_converter = lambda x: trainset.to_raw_iid(x)\n",
    "trainset_raw_iids = list(map(iid_converter, trainset_iids))\n",
    "\n",
    "print('Example of inner id  : ', trainset_iids[:5], '\\n')\n",
    "print('Example of raw id    : ', trainset_raw_iids[:5], '\\n')"
   ]
  },
  {
   "cell_type": "markdown",
   "id": "24ba6857",
   "metadata": {},
   "source": [
    "In layman terms, On trainset creation, each raw id is mapped to a unique integer called inner id\n",
    "* Raw iid is the actual index named in the original file\n",
    "* Inner iid is the index created during trainset creation"
   ]
  },
  {
   "cell_type": "code",
   "execution_count": 17,
   "id": "2d00257d",
   "metadata": {},
   "outputs": [
    {
     "name": "stdout",
     "output_type": "stream",
     "text": [
      "Number of users:  7699 \n",
      "\n",
      "Number of items:  136 \n",
      "\n"
     ]
    }
   ],
   "source": [
    "# we are using the trainsetfull to save distance metrics\n",
    "trainsetfull = data.build_full_trainset()\n",
    "print('Number of users: ', trainsetfull.n_users, '\\n')\n",
    "print('Number of items: ', trainsetfull.n_items, '\\n')\n",
    "\n",
    "trainsetfull_iids = list(trainsetfull.all_items())\n",
    "iid_converter = lambda x: trainsetfull.to_raw_iid(x)\n",
    "trainsetfull_raw_iids = list(map(iid_converter, trainsetfull_iids))"
   ]
  },
  {
   "cell_type": "markdown",
   "id": "707b8456",
   "metadata": {},
   "source": [
    "# Part 4: Modelling"
   ]
  },
  {
   "cell_type": "markdown",
   "id": "e3ce7d8e",
   "metadata": {},
   "source": [
    "## 4.1: Memory-based models Collaborative Filtering"
   ]
  },
  {
   "cell_type": "markdown",
   "id": "f261ca01",
   "metadata": {},
   "source": [
    "### 4.1.1: `k-NN inspired algorithms` - kNN Models without Baseline\n",
    "\n",
    "First, we define the similarity options, to be used by different models. The four options are:\n",
    "- `msd`\n",
    "- `cosine`\n",
    "- `pearson`\n",
    "- `pearson_baseline`"
   ]
  },
  {
   "cell_type": "code",
   "execution_count": 18,
   "id": "4c7914f9",
   "metadata": {},
   "outputs": [],
   "source": [
    "sim_msd = {'name':'MSD', 'user_based':False}\n",
    "sim_cos = {'name':'cosine', 'user_based':False}\n",
    "sim_pearson = {'name':'pearson', 'user_based':False}\n",
    "sim_pearson_baseline = {'name': 'pearson_baseline','user_based':False, 'shrinkage': 100}\n",
    "\n",
    "sim_options = [sim_msd, sim_cos, sim_pearson, sim_pearson_baseline]"
   ]
  },
  {
   "cell_type": "code",
   "execution_count": 19,
   "id": "6d6e4858",
   "metadata": {},
   "outputs": [],
   "source": [
    "# number of neighbors\n",
    "list_of_ks = [10,20,40]\n",
    "\n",
    "# empty list to store kNN scores\n",
    "kNN_scores = []"
   ]
  },
  {
   "cell_type": "markdown",
   "id": "d07145a8",
   "metadata": {},
   "source": [
    "On to the modelling. \n",
    "\n",
    "`KNNBasic`, `KNNWithMean`, `KNNWithZScore` can be used with first three sims, to tune: `k`, number of neighbors, looking at these first. \n",
    "\n",
    "Starting with the three `kNN` models that have no baseline attached to them. We are using `cross_validate` on all of them, and then save the results\n",
    "\n",
    "Then, we pick the best performing model, and train it on the trainset only. "
   ]
  },
  {
   "cell_type": "code",
   "execution_count": 29,
   "id": "60327814",
   "metadata": {},
   "outputs": [
    {
     "name": "stdout",
     "output_type": "stream",
     "text": [
      "Currently calculating sim_option = MSD and k = 10 ...\n",
      "Computing the msd similarity matrix...\n",
      "Done computing similarity matrix.\n",
      "Computing the msd similarity matrix...\n",
      "Done computing similarity matrix.\n",
      "Computing the msd similarity matrix...\n",
      "Done computing similarity matrix.\n",
      "Currently calculating sim_option = MSD and k = 20 ...\n",
      "Computing the msd similarity matrix...\n",
      "Done computing similarity matrix.\n",
      "Computing the msd similarity matrix...\n",
      "Done computing similarity matrix.\n",
      "Computing the msd similarity matrix...\n",
      "Done computing similarity matrix.\n",
      "Currently calculating sim_option = MSD and k = 40 ...\n",
      "Computing the msd similarity matrix...\n",
      "Done computing similarity matrix.\n",
      "Computing the msd similarity matrix...\n",
      "Done computing similarity matrix.\n",
      "Computing the msd similarity matrix...\n",
      "Done computing similarity matrix.\n",
      "Currently calculating sim_option = cosine and k = 10 ...\n",
      "Computing the cosine similarity matrix...\n",
      "Done computing similarity matrix.\n",
      "Computing the cosine similarity matrix...\n",
      "Done computing similarity matrix.\n",
      "Computing the cosine similarity matrix...\n",
      "Done computing similarity matrix.\n",
      "Currently calculating sim_option = cosine and k = 20 ...\n",
      "Computing the cosine similarity matrix...\n",
      "Done computing similarity matrix.\n",
      "Computing the cosine similarity matrix...\n",
      "Done computing similarity matrix.\n",
      "Computing the cosine similarity matrix...\n",
      "Done computing similarity matrix.\n",
      "Currently calculating sim_option = cosine and k = 40 ...\n",
      "Computing the cosine similarity matrix...\n",
      "Done computing similarity matrix.\n",
      "Computing the cosine similarity matrix...\n",
      "Done computing similarity matrix.\n",
      "Computing the cosine similarity matrix...\n",
      "Done computing similarity matrix.\n",
      "Currently calculating sim_option = pearson and k = 10 ...\n",
      "Computing the pearson similarity matrix...\n",
      "Done computing similarity matrix.\n",
      "Computing the pearson similarity matrix...\n",
      "Done computing similarity matrix.\n",
      "Computing the pearson similarity matrix...\n",
      "Done computing similarity matrix.\n",
      "Currently calculating sim_option = pearson and k = 20 ...\n",
      "Computing the pearson similarity matrix...\n",
      "Done computing similarity matrix.\n",
      "Computing the pearson similarity matrix...\n",
      "Done computing similarity matrix.\n",
      "Computing the pearson similarity matrix...\n",
      "Done computing similarity matrix.\n",
      "Currently calculating sim_option = pearson and k = 40 ...\n",
      "Computing the pearson similarity matrix...\n",
      "Done computing similarity matrix.\n",
      "Computing the pearson similarity matrix...\n",
      "Done computing similarity matrix.\n",
      "Computing the pearson similarity matrix...\n",
      "Done computing similarity matrix.\n"
     ]
    }
   ],
   "source": [
    "# KNNBasic\n",
    "for curr_sim_option in sim_options[0:3]:\n",
    "\n",
    "    for curr_k in list_of_ks:\n",
    "        \n",
    "        print(\n",
    "            'Currently calculating sim_option = ' + str(curr_sim_option['name']) + \\\n",
    "            ' and k = ' + str(curr_k) + ' ...' )        \n",
    "        algo = KNNBasic(k = curr_k, sim_options = curr_sim_option)\n",
    "        results = cross_validate(algo, data, measures=['RMSE'], cv=3, return_train_measures=True);\n",
    "        \n",
    "        kNN_scores.append(['KNNBasic', curr_sim_option['name'], str(curr_k), \n",
    "                        str(np.mean(results['train_rmse'])), str(np.mean(results['test_rmse']))]\n",
    "                      )"
   ]
  },
  {
   "cell_type": "code",
   "execution_count": 30,
   "id": "d41934cf",
   "metadata": {},
   "outputs": [
    {
     "name": "stdout",
     "output_type": "stream",
     "text": [
      "Currently calculating sim_option = MSD and k = 10 ...\n",
      "Computing the msd similarity matrix...\n",
      "Done computing similarity matrix.\n",
      "Computing the msd similarity matrix...\n",
      "Done computing similarity matrix.\n",
      "Computing the msd similarity matrix...\n",
      "Done computing similarity matrix.\n",
      "Currently calculating sim_option = MSD and k = 20 ...\n",
      "Computing the msd similarity matrix...\n",
      "Done computing similarity matrix.\n",
      "Computing the msd similarity matrix...\n",
      "Done computing similarity matrix.\n",
      "Computing the msd similarity matrix...\n",
      "Done computing similarity matrix.\n",
      "Currently calculating sim_option = MSD and k = 40 ...\n",
      "Computing the msd similarity matrix...\n",
      "Done computing similarity matrix.\n",
      "Computing the msd similarity matrix...\n",
      "Done computing similarity matrix.\n",
      "Computing the msd similarity matrix...\n",
      "Done computing similarity matrix.\n",
      "Currently calculating sim_option = cosine and k = 10 ...\n",
      "Computing the cosine similarity matrix...\n",
      "Done computing similarity matrix.\n",
      "Computing the cosine similarity matrix...\n",
      "Done computing similarity matrix.\n",
      "Computing the cosine similarity matrix...\n",
      "Done computing similarity matrix.\n",
      "Currently calculating sim_option = cosine and k = 20 ...\n",
      "Computing the cosine similarity matrix...\n",
      "Done computing similarity matrix.\n",
      "Computing the cosine similarity matrix...\n",
      "Done computing similarity matrix.\n",
      "Computing the cosine similarity matrix...\n",
      "Done computing similarity matrix.\n",
      "Currently calculating sim_option = cosine and k = 40 ...\n",
      "Computing the cosine similarity matrix...\n",
      "Done computing similarity matrix.\n",
      "Computing the cosine similarity matrix...\n",
      "Done computing similarity matrix.\n",
      "Computing the cosine similarity matrix...\n",
      "Done computing similarity matrix.\n",
      "Currently calculating sim_option = pearson and k = 10 ...\n",
      "Computing the pearson similarity matrix...\n",
      "Done computing similarity matrix.\n",
      "Computing the pearson similarity matrix...\n",
      "Done computing similarity matrix.\n",
      "Computing the pearson similarity matrix...\n",
      "Done computing similarity matrix.\n",
      "Currently calculating sim_option = pearson and k = 20 ...\n",
      "Computing the pearson similarity matrix...\n",
      "Done computing similarity matrix.\n",
      "Computing the pearson similarity matrix...\n",
      "Done computing similarity matrix.\n",
      "Computing the pearson similarity matrix...\n",
      "Done computing similarity matrix.\n",
      "Currently calculating sim_option = pearson and k = 40 ...\n",
      "Computing the pearson similarity matrix...\n",
      "Done computing similarity matrix.\n",
      "Computing the pearson similarity matrix...\n",
      "Done computing similarity matrix.\n",
      "Computing the pearson similarity matrix...\n",
      "Done computing similarity matrix.\n"
     ]
    }
   ],
   "source": [
    "# KNNWithMeans\n",
    "for curr_sim_option in sim_options[0:3]:\n",
    "\n",
    "    for curr_k in list_of_ks:\n",
    "        \n",
    "        print(\n",
    "            'Currently calculating sim_option = ' + str(curr_sim_option['name']) + \\\n",
    "            ' and k = ' + str(curr_k) + ' ...' )\n",
    "        algo = KNNWithMeans(k = curr_k, sim_options = curr_sim_option)\n",
    "        results = cross_validate(algo, data, measures=['RMSE'], cv=3, return_train_measures=True);\n",
    "        \n",
    "        kNN_scores.append(['KNNWithMeans', curr_sim_option['name'], str(curr_k), \n",
    "                        str(np.mean(results['train_rmse'])), str(np.mean(results['test_rmse']))]\n",
    "                      )\n",
    "            "
   ]
  },
  {
   "cell_type": "code",
   "execution_count": 31,
   "id": "5dd244ce",
   "metadata": {},
   "outputs": [
    {
     "name": "stdout",
     "output_type": "stream",
     "text": [
      "Currently calculating sim_option = MSD and k = 10 ...\n",
      "Computing the msd similarity matrix...\n",
      "Done computing similarity matrix.\n",
      "Computing the msd similarity matrix...\n",
      "Done computing similarity matrix.\n",
      "Computing the msd similarity matrix...\n",
      "Done computing similarity matrix.\n",
      "Currently calculating sim_option = MSD and k = 20 ...\n",
      "Computing the msd similarity matrix...\n",
      "Done computing similarity matrix.\n",
      "Computing the msd similarity matrix...\n",
      "Done computing similarity matrix.\n",
      "Computing the msd similarity matrix...\n",
      "Done computing similarity matrix.\n",
      "Currently calculating sim_option = MSD and k = 40 ...\n",
      "Computing the msd similarity matrix...\n",
      "Done computing similarity matrix.\n",
      "Computing the msd similarity matrix...\n",
      "Done computing similarity matrix.\n",
      "Computing the msd similarity matrix...\n",
      "Done computing similarity matrix.\n",
      "Currently calculating sim_option = cosine and k = 10 ...\n",
      "Computing the cosine similarity matrix...\n",
      "Done computing similarity matrix.\n",
      "Computing the cosine similarity matrix...\n",
      "Done computing similarity matrix.\n",
      "Computing the cosine similarity matrix...\n",
      "Done computing similarity matrix.\n",
      "Currently calculating sim_option = cosine and k = 20 ...\n",
      "Computing the cosine similarity matrix...\n",
      "Done computing similarity matrix.\n",
      "Computing the cosine similarity matrix...\n",
      "Done computing similarity matrix.\n",
      "Computing the cosine similarity matrix...\n",
      "Done computing similarity matrix.\n",
      "Currently calculating sim_option = cosine and k = 40 ...\n",
      "Computing the cosine similarity matrix...\n",
      "Done computing similarity matrix.\n",
      "Computing the cosine similarity matrix...\n",
      "Done computing similarity matrix.\n",
      "Computing the cosine similarity matrix...\n",
      "Done computing similarity matrix.\n",
      "Currently calculating sim_option = pearson and k = 10 ...\n",
      "Computing the pearson similarity matrix...\n",
      "Done computing similarity matrix.\n",
      "Computing the pearson similarity matrix...\n",
      "Done computing similarity matrix.\n",
      "Computing the pearson similarity matrix...\n",
      "Done computing similarity matrix.\n",
      "Currently calculating sim_option = pearson and k = 20 ...\n",
      "Computing the pearson similarity matrix...\n",
      "Done computing similarity matrix.\n",
      "Computing the pearson similarity matrix...\n",
      "Done computing similarity matrix.\n",
      "Computing the pearson similarity matrix...\n",
      "Done computing similarity matrix.\n",
      "Currently calculating sim_option = pearson and k = 40 ...\n",
      "Computing the pearson similarity matrix...\n",
      "Done computing similarity matrix.\n",
      "Computing the pearson similarity matrix...\n",
      "Done computing similarity matrix.\n",
      "Computing the pearson similarity matrix...\n",
      "Done computing similarity matrix.\n"
     ]
    }
   ],
   "source": [
    "# KNNWithZScore\n",
    "for curr_sim_option in sim_options[0:3]:\n",
    "\n",
    "    for curr_k in list_of_ks:\n",
    "        \n",
    "        print(\n",
    "            'Currently calculating sim_option = ' + str(curr_sim_option['name']) + \\\n",
    "            ' and k = ' + str(curr_k) + ' ...' )\n",
    "        algo = KNNWithZScore(k = curr_k, sim_options = curr_sim_option)\n",
    "        results = cross_validate(algo, data, measures=['RMSE'], cv=3, return_train_measures=True);\n",
    "\n",
    "        kNN_scores.append(['KNNWithZScore', curr_sim_option['name'], str(curr_k), \n",
    "                        str(np.mean(results['train_rmse'])), str(np.mean(results['test_rmse']))]\n",
    "                      )"
   ]
  },
  {
   "cell_type": "code",
   "execution_count": 34,
   "id": "abb65b3e",
   "metadata": {},
   "outputs": [
    {
     "data": {
      "text/html": [
       "<div>\n",
       "<style scoped>\n",
       "    .dataframe tbody tr th:only-of-type {\n",
       "        vertical-align: middle;\n",
       "    }\n",
       "\n",
       "    .dataframe tbody tr th {\n",
       "        vertical-align: top;\n",
       "    }\n",
       "\n",
       "    .dataframe thead th {\n",
       "        text-align: right;\n",
       "    }\n",
       "</style>\n",
       "<table border=\"1\" class=\"dataframe\">\n",
       "  <thead>\n",
       "    <tr style=\"text-align: right;\">\n",
       "      <th></th>\n",
       "      <th>model_type</th>\n",
       "      <th>similarity_option</th>\n",
       "      <th>k</th>\n",
       "      <th>train_rmse</th>\n",
       "      <th>test_rmse</th>\n",
       "    </tr>\n",
       "  </thead>\n",
       "  <tbody>\n",
       "    <tr>\n",
       "      <th>17</th>\n",
       "      <td>KNNWithMeans</td>\n",
       "      <td>pearson</td>\n",
       "      <td>40</td>\n",
       "      <td>3.2531799491999114</td>\n",
       "      <td>4.573265990871269</td>\n",
       "    </tr>\n",
       "    <tr>\n",
       "      <th>13</th>\n",
       "      <td>KNNWithMeans</td>\n",
       "      <td>cosine</td>\n",
       "      <td>20</td>\n",
       "      <td>3.159682964715261</td>\n",
       "      <td>4.5799248468706075</td>\n",
       "    </tr>\n",
       "    <tr>\n",
       "      <th>14</th>\n",
       "      <td>KNNWithMeans</td>\n",
       "      <td>cosine</td>\n",
       "      <td>40</td>\n",
       "      <td>3.2903850378669244</td>\n",
       "      <td>4.583245241152444</td>\n",
       "    </tr>\n",
       "    <tr>\n",
       "      <th>16</th>\n",
       "      <td>KNNWithMeans</td>\n",
       "      <td>pearson</td>\n",
       "      <td>20</td>\n",
       "      <td>3.1003618713234586</td>\n",
       "      <td>4.5905238569670885</td>\n",
       "    </tr>\n",
       "    <tr>\n",
       "      <th>10</th>\n",
       "      <td>KNNWithMeans</td>\n",
       "      <td>MSD</td>\n",
       "      <td>20</td>\n",
       "      <td>1.3359292867425185</td>\n",
       "      <td>4.5925886023067655</td>\n",
       "    </tr>\n",
       "    <tr>\n",
       "      <th>11</th>\n",
       "      <td>KNNWithMeans</td>\n",
       "      <td>MSD</td>\n",
       "      <td>40</td>\n",
       "      <td>1.6799542931536193</td>\n",
       "      <td>4.595086217615626</td>\n",
       "    </tr>\n",
       "    <tr>\n",
       "      <th>23</th>\n",
       "      <td>KNNWithZScore</td>\n",
       "      <td>cosine</td>\n",
       "      <td>40</td>\n",
       "      <td>3.296224688519716</td>\n",
       "      <td>4.5953194284848875</td>\n",
       "    </tr>\n",
       "    <tr>\n",
       "      <th>20</th>\n",
       "      <td>KNNWithZScore</td>\n",
       "      <td>MSD</td>\n",
       "      <td>40</td>\n",
       "      <td>1.6825021258480246</td>\n",
       "      <td>4.5994594505434705</td>\n",
       "    </tr>\n",
       "    <tr>\n",
       "      <th>26</th>\n",
       "      <td>KNNWithZScore</td>\n",
       "      <td>pearson</td>\n",
       "      <td>40</td>\n",
       "      <td>3.2576625023139862</td>\n",
       "      <td>4.600459390823622</td>\n",
       "    </tr>\n",
       "    <tr>\n",
       "      <th>22</th>\n",
       "      <td>KNNWithZScore</td>\n",
       "      <td>cosine</td>\n",
       "      <td>20</td>\n",
       "      <td>3.1618570717831602</td>\n",
       "      <td>4.601089923272977</td>\n",
       "    </tr>\n",
       "    <tr>\n",
       "      <th>4</th>\n",
       "      <td>KNNBasic</td>\n",
       "      <td>cosine</td>\n",
       "      <td>20</td>\n",
       "      <td>3.1617757985124015</td>\n",
       "      <td>4.604718491496385</td>\n",
       "    </tr>\n",
       "    <tr>\n",
       "      <th>19</th>\n",
       "      <td>KNNWithZScore</td>\n",
       "      <td>MSD</td>\n",
       "      <td>20</td>\n",
       "      <td>1.3396796792224153</td>\n",
       "      <td>4.60527867262265</td>\n",
       "    </tr>\n",
       "    <tr>\n",
       "      <th>5</th>\n",
       "      <td>KNNBasic</td>\n",
       "      <td>cosine</td>\n",
       "      <td>40</td>\n",
       "      <td>3.3030329571595445</td>\n",
       "      <td>4.6057789357366845</td>\n",
       "    </tr>\n",
       "    <tr>\n",
       "      <th>25</th>\n",
       "      <td>KNNWithZScore</td>\n",
       "      <td>pearson</td>\n",
       "      <td>20</td>\n",
       "      <td>3.106248847622633</td>\n",
       "      <td>4.6070554199151355</td>\n",
       "    </tr>\n",
       "    <tr>\n",
       "      <th>2</th>\n",
       "      <td>KNNBasic</td>\n",
       "      <td>MSD</td>\n",
       "      <td>40</td>\n",
       "      <td>1.6936313947962665</td>\n",
       "      <td>4.616938317859895</td>\n",
       "    </tr>\n",
       "    <tr>\n",
       "      <th>1</th>\n",
       "      <td>KNNBasic</td>\n",
       "      <td>MSD</td>\n",
       "      <td>20</td>\n",
       "      <td>1.3413152744327146</td>\n",
       "      <td>4.618288844621761</td>\n",
       "    </tr>\n",
       "    <tr>\n",
       "      <th>9</th>\n",
       "      <td>KNNWithMeans</td>\n",
       "      <td>MSD</td>\n",
       "      <td>10</td>\n",
       "      <td>0.972312697133904</td>\n",
       "      <td>4.618542054046472</td>\n",
       "    </tr>\n",
       "    <tr>\n",
       "      <th>12</th>\n",
       "      <td>KNNWithMeans</td>\n",
       "      <td>cosine</td>\n",
       "      <td>10</td>\n",
       "      <td>2.9176009729694705</td>\n",
       "      <td>4.62400255806853</td>\n",
       "    </tr>\n",
       "    <tr>\n",
       "      <th>15</th>\n",
       "      <td>KNNWithMeans</td>\n",
       "      <td>pearson</td>\n",
       "      <td>10</td>\n",
       "      <td>2.838401887855639</td>\n",
       "      <td>4.627336419548448</td>\n",
       "    </tr>\n",
       "    <tr>\n",
       "      <th>7</th>\n",
       "      <td>KNNBasic</td>\n",
       "      <td>pearson</td>\n",
       "      <td>20</td>\n",
       "      <td>3.135649174690451</td>\n",
       "      <td>4.630370075497084</td>\n",
       "    </tr>\n",
       "    <tr>\n",
       "      <th>24</th>\n",
       "      <td>KNNWithZScore</td>\n",
       "      <td>pearson</td>\n",
       "      <td>10</td>\n",
       "      <td>2.846543907781204</td>\n",
       "      <td>4.630564057985998</td>\n",
       "    </tr>\n",
       "    <tr>\n",
       "      <th>8</th>\n",
       "      <td>KNNBasic</td>\n",
       "      <td>pearson</td>\n",
       "      <td>40</td>\n",
       "      <td>3.2935301102100545</td>\n",
       "      <td>4.635830288447983</td>\n",
       "    </tr>\n",
       "    <tr>\n",
       "      <th>3</th>\n",
       "      <td>KNNBasic</td>\n",
       "      <td>cosine</td>\n",
       "      <td>10</td>\n",
       "      <td>2.915473568462295</td>\n",
       "      <td>4.636097184951954</td>\n",
       "    </tr>\n",
       "    <tr>\n",
       "      <th>0</th>\n",
       "      <td>KNNBasic</td>\n",
       "      <td>MSD</td>\n",
       "      <td>10</td>\n",
       "      <td>0.9726532346371601</td>\n",
       "      <td>4.636335001385556</td>\n",
       "    </tr>\n",
       "    <tr>\n",
       "      <th>21</th>\n",
       "      <td>KNNWithZScore</td>\n",
       "      <td>cosine</td>\n",
       "      <td>10</td>\n",
       "      <td>2.9293002712720866</td>\n",
       "      <td>4.638793602188325</td>\n",
       "    </tr>\n",
       "    <tr>\n",
       "      <th>18</th>\n",
       "      <td>KNNWithZScore</td>\n",
       "      <td>MSD</td>\n",
       "      <td>10</td>\n",
       "      <td>0.9746280465135104</td>\n",
       "      <td>4.649893476266271</td>\n",
       "    </tr>\n",
       "    <tr>\n",
       "      <th>6</th>\n",
       "      <td>KNNBasic</td>\n",
       "      <td>pearson</td>\n",
       "      <td>10</td>\n",
       "      <td>2.86491864228792</td>\n",
       "      <td>4.66639805357661</td>\n",
       "    </tr>\n",
       "  </tbody>\n",
       "</table>\n",
       "</div>"
      ],
      "text/plain": [
       "       model_type similarity_option   k          train_rmse  \\\n",
       "17   KNNWithMeans           pearson  40  3.2531799491999114   \n",
       "13   KNNWithMeans            cosine  20   3.159682964715261   \n",
       "14   KNNWithMeans            cosine  40  3.2903850378669244   \n",
       "16   KNNWithMeans           pearson  20  3.1003618713234586   \n",
       "10   KNNWithMeans               MSD  20  1.3359292867425185   \n",
       "11   KNNWithMeans               MSD  40  1.6799542931536193   \n",
       "23  KNNWithZScore            cosine  40   3.296224688519716   \n",
       "20  KNNWithZScore               MSD  40  1.6825021258480246   \n",
       "26  KNNWithZScore           pearson  40  3.2576625023139862   \n",
       "22  KNNWithZScore            cosine  20  3.1618570717831602   \n",
       "4        KNNBasic            cosine  20  3.1617757985124015   \n",
       "19  KNNWithZScore               MSD  20  1.3396796792224153   \n",
       "5        KNNBasic            cosine  40  3.3030329571595445   \n",
       "25  KNNWithZScore           pearson  20   3.106248847622633   \n",
       "2        KNNBasic               MSD  40  1.6936313947962665   \n",
       "1        KNNBasic               MSD  20  1.3413152744327146   \n",
       "9    KNNWithMeans               MSD  10   0.972312697133904   \n",
       "12   KNNWithMeans            cosine  10  2.9176009729694705   \n",
       "15   KNNWithMeans           pearson  10   2.838401887855639   \n",
       "7        KNNBasic           pearson  20   3.135649174690451   \n",
       "24  KNNWithZScore           pearson  10   2.846543907781204   \n",
       "8        KNNBasic           pearson  40  3.2935301102100545   \n",
       "3        KNNBasic            cosine  10   2.915473568462295   \n",
       "0        KNNBasic               MSD  10  0.9726532346371601   \n",
       "21  KNNWithZScore            cosine  10  2.9293002712720866   \n",
       "18  KNNWithZScore               MSD  10  0.9746280465135104   \n",
       "6        KNNBasic           pearson  10    2.86491864228792   \n",
       "\n",
       "             test_rmse  \n",
       "17   4.573265990871269  \n",
       "13  4.5799248468706075  \n",
       "14   4.583245241152444  \n",
       "16  4.5905238569670885  \n",
       "10  4.5925886023067655  \n",
       "11   4.595086217615626  \n",
       "23  4.5953194284848875  \n",
       "20  4.5994594505434705  \n",
       "26   4.600459390823622  \n",
       "22   4.601089923272977  \n",
       "4    4.604718491496385  \n",
       "19    4.60527867262265  \n",
       "5   4.6057789357366845  \n",
       "25  4.6070554199151355  \n",
       "2    4.616938317859895  \n",
       "1    4.618288844621761  \n",
       "9    4.618542054046472  \n",
       "12    4.62400255806853  \n",
       "15   4.627336419548448  \n",
       "7    4.630370075497084  \n",
       "24   4.630564057985998  \n",
       "8    4.635830288447983  \n",
       "3    4.636097184951954  \n",
       "0    4.636335001385556  \n",
       "21   4.638793602188325  \n",
       "18   4.649893476266271  \n",
       "6     4.66639805357661  "
      ]
     },
     "execution_count": 34,
     "metadata": {},
     "output_type": "execute_result"
    }
   ],
   "source": [
    "# store result to dataframe and sort by test root mean square error by ascending order (smaller rmse = smaller error)\n",
    "df_kNN = pd.DataFrame(kNN_scores, columns = ['model_type', 'similarity_option', 'k', 'train_rmse', 'test_rmse'])\n",
    "df_kNN.sort_values(by = 'test_rmse', inplace = True)\n",
    "df_kNN"
   ]
  },
  {
   "cell_type": "markdown",
   "id": "c517260a",
   "metadata": {},
   "source": [
    "Based on the results, best model seems to be this: \n",
    "- model type: `kNNWithMeans` \n",
    "- similarity option: `pearson` \n",
    "- `k`: 40\n",
    "<br>\n",
    "\n",
    "Overall, `pearson` seems to be a good similarity option. `kNNwithMeans` and `kNNWithZScore` outperforms `kNNBasic`.\n",
    "\n",
    "There is probably some overfitting, the train scores are much lower than the test scores (which is what you want, a low `rmse` score), but there is not much that can be done with it. The `cross_validated` test scores are quite promising. "
   ]
  },
  {
   "cell_type": "markdown",
   "id": "11003950",
   "metadata": {},
   "source": [
    "### 4.1.2: Chosen Model Fitting for Memory Based Collaborative Filtering\n",
    "\n",
    "Rather than performing on k-fold (cross-validation), we will now train the data by using pre-split train & test data (real-world scenario)"
   ]
  },
  {
   "cell_type": "code",
   "execution_count": 76,
   "id": "88e3f119",
   "metadata": {},
   "outputs": [
    {
     "name": "stdout",
     "output_type": "stream",
     "text": [
      "Computing the pearson similarity matrix...\n",
      "Done computing similarity matrix.\n",
      "RMSE: 4.5426\n",
      "4.5426344688433415\n"
     ]
    }
   ],
   "source": [
    "# based on above performance results\n",
    "chosen_k = 40\n",
    "chosen_sim_option = sim_pearson\n",
    "\n",
    "chosen_knn = KNNWithMeans(k = chosen_k, sim_options = chosen_sim_option)\n",
    "chosen_knn.fit(trainset)\n",
    "\n",
    "predictions_knn = chosen_knn.test(testset)\n",
    "accuracy_knn = accuracy.rmse(predictions_knn)\n",
    "print(accuracy_knn)"
   ]
  },
  {
   "cell_type": "markdown",
   "id": "d5fa6d9d",
   "metadata": {},
   "source": [
    "`rmse` score for the chosen kNN without baseline model is __4.5426__. "
   ]
  },
  {
   "cell_type": "markdown",
   "id": "80dd533e",
   "metadata": {},
   "source": [
    "## 4.2: Model-based models Collaborative Filtering"
   ]
  },
  {
   "cell_type": "markdown",
   "id": "d12a5f85",
   "metadata": {},
   "source": [
    "### 4.2.1: `Matrix Factorization-based algorithms` - SVD (Singular value decomposition)\n",
    "\n",
    "First, we need to fine tune the hyperparameter by trial and error, the process can be made easier by utilizing GridSearchCV:\n",
    "- `n_factors` : The number of factors. Default is 100.\n",
    "- `n_epochs`  : The number of iteration of the SGD procedure. Default is 20.\n",
    "- `lr_all`    : The learning rate for all parameters. Default is 0.005.\n",
    "- `reg_all`   : The regularization term for all parameters. Default is 0.02."
   ]
  },
  {
   "cell_type": "code",
   "execution_count": 46,
   "id": "b0b8b6ba",
   "metadata": {},
   "outputs": [
    {
     "name": "stderr",
     "output_type": "stream",
     "text": [
      "[Parallel(n_jobs=-1)]: Using backend LokyBackend with 16 concurrent workers.\n",
      "[Parallel(n_jobs=-1)]: Done  40 tasks      | elapsed:   12.5s\n",
      "[Parallel(n_jobs=-1)]: Done 130 tasks      | elapsed:   57.3s\n",
      "[Parallel(n_jobs=-1)]: Done 256 tasks      | elapsed:  2.1min\n",
      "[Parallel(n_jobs=-1)]: Done 405 out of 405 | elapsed:  4.1min finished\n"
     ]
    }
   ],
   "source": [
    "# randomly set hyperparameter\n",
    "param_grid_1 = {'n_factors':[50, 100, 150], 'n_epochs': [10, 20, 30], \n",
    "                'lr_all': [0.002, 0.005, 0.008], 'reg_all': [0.01, 0.02, 0.03]}\n",
    "\n",
    "gs_model_1 = GridSearchCV(SVD, param_grid = param_grid_1, n_jobs = -1, joblib_verbose = 5)\n",
    "gs_model_1.fit(data)"
   ]
  },
  {
   "cell_type": "code",
   "execution_count": 47,
   "id": "7d5d1d00",
   "metadata": {},
   "outputs": [
    {
     "data": {
      "text/plain": [
       "{'rmse': 4.466144549910821, 'mae': 3.361722795181818}"
      ]
     },
     "execution_count": 47,
     "metadata": {},
     "output_type": "execute_result"
    }
   ],
   "source": [
    "gs_model_1.best_score"
   ]
  },
  {
   "cell_type": "code",
   "execution_count": 48,
   "id": "f9b898e4",
   "metadata": {},
   "outputs": [
    {
     "data": {
      "text/plain": [
       "{'rmse': {'n_factors': 150, 'n_epochs': 10, 'lr_all': 0.002, 'reg_all': 0.03},\n",
       " 'mae': {'n_factors': 100, 'n_epochs': 10, 'lr_all': 0.002, 'reg_all': 0.03}}"
      ]
     },
     "execution_count": 48,
     "metadata": {},
     "output_type": "execute_result"
    }
   ],
   "source": [
    "gs_model_1.best_params"
   ]
  },
  {
   "cell_type": "markdown",
   "id": "e32f257e",
   "metadata": {},
   "source": [
    "Intepretations & thoughts process\n",
    "- Since `n_factors` show better result at **higher** range `100`, we will try compare with `200`\n",
    "- Since `n_epochs` show better result at **lower** range `10`, we will try compare with `5`\n",
    "- Since `lr_all` show better result at **lower** range `0.002`, we will try compare with `0.001`\n",
    "- Since `reg_all` show better result at **higher** range `0.03`, we will try compare with `0.04 & 0.05`"
   ]
  },
  {
   "cell_type": "code",
   "execution_count": 49,
   "id": "1166e858",
   "metadata": {},
   "outputs": [
    {
     "name": "stderr",
     "output_type": "stream",
     "text": [
      "[Parallel(n_jobs=-1)]: Using backend LokyBackend with 16 concurrent workers.\n",
      "[Parallel(n_jobs=-1)]: Done  40 tasks      | elapsed:   14.4s\n",
      "[Parallel(n_jobs=-1)]: Done 114 out of 120 | elapsed:   44.2s remaining:    2.2s\n",
      "[Parallel(n_jobs=-1)]: Done 120 out of 120 | elapsed:   44.7s finished\n"
     ]
    }
   ],
   "source": [
    "# set hyperparameter based on above best_params. to find 'better' parameter\n",
    "param_grid_2 = {'n_factors':[150, 200], 'n_epochs': [5, 10], \n",
    "                'lr_all': [0.001, 0.002], 'reg_all': [0.03, 0.04, 0.05]}\n",
    "\n",
    "gs_model_2 = GridSearchCV(SVD, param_grid = param_grid_2, n_jobs = -1, joblib_verbose = 5)\n",
    "gs_model_2.fit(data)"
   ]
  },
  {
   "cell_type": "code",
   "execution_count": 50,
   "id": "bbd9463d",
   "metadata": {},
   "outputs": [
    {
     "data": {
      "text/plain": [
       "{'rmse': 4.453403248090696, 'mae': 3.3533491795436654}"
      ]
     },
     "execution_count": 50,
     "metadata": {},
     "output_type": "execute_result"
    }
   ],
   "source": [
    "gs_model_2.best_score"
   ]
  },
  {
   "cell_type": "code",
   "execution_count": 51,
   "id": "789378e7",
   "metadata": {},
   "outputs": [
    {
     "data": {
      "text/plain": [
       "{'rmse': {'n_factors': 200, 'n_epochs': 10, 'lr_all': 0.002, 'reg_all': 0.05},\n",
       " 'mae': {'n_factors': 200, 'n_epochs': 10, 'lr_all': 0.002, 'reg_all': 0.05}}"
      ]
     },
     "execution_count": 51,
     "metadata": {},
     "output_type": "execute_result"
    }
   ],
   "source": [
    "gs_model_2.best_params"
   ]
  },
  {
   "cell_type": "markdown",
   "id": "2cfc09bb",
   "metadata": {},
   "source": [
    "Intepretations & thoughts process\n",
    "- Since `n_factors` show better result at **higher** range `200`, we will try compare with `300 & 400`\n",
    "- Since `n_epochs` doesn't show better result, we will stop tuning it and set as `10`\n",
    "- Since `lr_all` doesn't show better result, we will stop tuning it and set as `0.002`\n",
    "- Since `reg_all` show better result at **higher** range `0.05`, we will try compare with `0.10 & 0.15`"
   ]
  },
  {
   "cell_type": "code",
   "execution_count": 52,
   "id": "71ffd8ed",
   "metadata": {},
   "outputs": [
    {
     "name": "stderr",
     "output_type": "stream",
     "text": [
      "[Parallel(n_jobs=-1)]: Using backend LokyBackend with 16 concurrent workers.\n",
      "[Parallel(n_jobs=-1)]: Done  24 out of  45 | elapsed:   24.2s remaining:   21.2s\n",
      "[Parallel(n_jobs=-1)]: Done  34 out of  45 | elapsed:   42.0s remaining:   13.5s\n",
      "[Parallel(n_jobs=-1)]: Done  45 out of  45 | elapsed:   43.1s finished\n"
     ]
    }
   ],
   "source": [
    "param_grid_3 = {'n_factors':[200, 300, 400], 'n_epochs': [10], \n",
    "                'lr_all': [0.002], 'reg_all': [0.05, 0.10, 0.15]}\n",
    "\n",
    "gs_model_3 = GridSearchCV(SVD, param_grid = param_grid_3, n_jobs = -1, joblib_verbose = 5)\n",
    "gs_model_3.fit(data)"
   ]
  },
  {
   "cell_type": "code",
   "execution_count": 53,
   "id": "604a04ef",
   "metadata": {},
   "outputs": [
    {
     "data": {
      "text/plain": [
       "{'rmse': 4.4343113079349195, 'mae': 3.340715639244651}"
      ]
     },
     "execution_count": 53,
     "metadata": {},
     "output_type": "execute_result"
    }
   ],
   "source": [
    "gs_model_3.best_score"
   ]
  },
  {
   "cell_type": "code",
   "execution_count": 54,
   "id": "e90370fd",
   "metadata": {},
   "outputs": [
    {
     "data": {
      "text/plain": [
       "{'rmse': {'n_factors': 300, 'n_epochs': 10, 'lr_all': 0.002, 'reg_all': 0.1},\n",
       " 'mae': {'n_factors': 300, 'n_epochs': 10, 'lr_all': 0.002, 'reg_all': 0.1}}"
      ]
     },
     "execution_count": 54,
     "metadata": {},
     "output_type": "execute_result"
    }
   ],
   "source": [
    "gs_model_3.best_params"
   ]
  },
  {
   "cell_type": "markdown",
   "id": "7eecfd7a",
   "metadata": {},
   "source": [
    "Intepretations & thoughts process\n",
    "- Since `n_factors` show better result at **middle** range `300`, we will try compare with `250 & 350`\n",
    "- Since `n_epochs` doesn't show better result, we will stop tuning it and set as `10`\n",
    "- Since `lr_all` doesn't show better result, we will stop tuning it and set as `0.002`\n",
    "- Since `reg_all` show better result at **middle** range `0.1`, we will try compare with `0.08 & 0.12`"
   ]
  },
  {
   "cell_type": "code",
   "execution_count": 55,
   "id": "ae67e407",
   "metadata": {},
   "outputs": [
    {
     "name": "stderr",
     "output_type": "stream",
     "text": [
      "[Parallel(n_jobs=-1)]: Using backend LokyBackend with 16 concurrent workers.\n",
      "[Parallel(n_jobs=-1)]: Done  24 out of  45 | elapsed:   24.1s remaining:   21.1s\n",
      "[Parallel(n_jobs=-1)]: Done  34 out of  45 | elapsed:   38.5s remaining:   12.4s\n",
      "[Parallel(n_jobs=-1)]: Done  45 out of  45 | elapsed:   39.4s finished\n"
     ]
    }
   ],
   "source": [
    "param_grid_4 = {'n_factors':[250, 300, 350], 'n_epochs': [10], \n",
    "                'lr_all': [0.002], 'reg_all': [0.08, 0.10, 0.12]}\n",
    "\n",
    "gs_model_4 = GridSearchCV(SVD, param_grid = param_grid_4, n_jobs = -1, joblib_verbose = 5)\n",
    "gs_model_4.fit(data)"
   ]
  },
  {
   "cell_type": "code",
   "execution_count": 56,
   "id": "0271e609",
   "metadata": {},
   "outputs": [
    {
     "data": {
      "text/plain": [
       "{'rmse': 4.431495567615721, 'mae': 3.337983586097452}"
      ]
     },
     "execution_count": 56,
     "metadata": {},
     "output_type": "execute_result"
    }
   ],
   "source": [
    "gs_model_4.best_score"
   ]
  },
  {
   "cell_type": "code",
   "execution_count": 57,
   "id": "6e70a909",
   "metadata": {},
   "outputs": [
    {
     "data": {
      "text/plain": [
       "{'rmse': {'n_factors': 300, 'n_epochs': 10, 'lr_all': 0.002, 'reg_all': 0.1},\n",
       " 'mae': {'n_factors': 300, 'n_epochs': 10, 'lr_all': 0.002, 'reg_all': 0.1}}"
      ]
     },
     "execution_count": 57,
     "metadata": {},
     "output_type": "execute_result"
    }
   ],
   "source": [
    "gs_model_4.best_params"
   ]
  },
  {
   "cell_type": "markdown",
   "id": "a5ef1894",
   "metadata": {},
   "source": [
    "Intepretations & thoughts process\n",
    "- Since `n_factors` doesn't show better result, we will stop tuning it and set as `300`\n",
    "- Since `n_epochs` doesn't show better result, we will stop tuning it and set as `10`\n",
    "- Since `lr_all` doesn't show better result, we will stop tuning it and set as `0.002`\n",
    "- Since `reg_all` doesn't show better result, we will stop tuning it and set as `0.1`\n",
    "\n",
    "We will stop exploring apply the hyperparameter on trainset & testset"
   ]
  },
  {
   "cell_type": "code",
   "execution_count": 75,
   "id": "799e541d",
   "metadata": {},
   "outputs": [
    {
     "name": "stdout",
     "output_type": "stream",
     "text": [
      "RMSE: 4.4368\n",
      "4.436752521505912\n"
     ]
    }
   ],
   "source": [
    "chosen_SVD = SVD(n_factors= 300, n_epochs=10, lr_all=0.002, reg_all=0.1)\n",
    "chosen_SVD.fit(trainset)\n",
    "predictions_SVD = chosen_SVD.test(testset)\n",
    "accuracy_SVD = accuracy.rmse(predictions_SVD)\n",
    "print(accuracy_SVD)"
   ]
  },
  {
   "cell_type": "markdown",
   "id": "eb719189",
   "metadata": {},
   "source": [
    "`rmse` score for the chosen SVD model is __4.4368__."
   ]
  },
  {
   "cell_type": "markdown",
   "id": "785973f0",
   "metadata": {},
   "source": [
    "### 4.2.2: `Matrix Factorization-based algorithms` - SVD++\n",
    "\n",
    "The SVD++ algorithm, an extension of SVD taking into account implicit ratings. </br>\n",
    "\n",
    "First, we need to fine tune the hyperparameter by trial and error, the process can be made easier by utilizing GridSearchCV:\n",
    "- `n_factors` : The number of factors. Default is 20.\n",
    "- `n_epochs`  : The number of iteration of the SGD procedure. Default is 20.\n",
    "- `lr_all`    : The learning rate for all parameters. Default is 0.007\n",
    "- `reg_all`   : The regularization term for all parameters. Default is 0.02."
   ]
  },
  {
   "cell_type": "code",
   "execution_count": 62,
   "id": "09243885",
   "metadata": {},
   "outputs": [
    {
     "name": "stderr",
     "output_type": "stream",
     "text": [
      "[Parallel(n_jobs=-1)]: Using backend LokyBackend with 16 concurrent workers.\n",
      "[Parallel(n_jobs=-1)]: Done  40 tasks      | elapsed:  2.1min\n",
      "[Parallel(n_jobs=-1)]: Done 130 tasks      | elapsed: 11.1min\n",
      "[Parallel(n_jobs=-1)]: Done 256 tasks      | elapsed: 23.1min\n"
     ]
    },
    {
     "name": "stdout",
     "output_type": "stream",
     "text": [
      "2465.3257999420166\n"
     ]
    },
    {
     "name": "stderr",
     "output_type": "stream",
     "text": [
      "[Parallel(n_jobs=-1)]: Done 405 out of 405 | elapsed: 41.1min finished\n"
     ]
    }
   ],
   "source": [
    "## commented to avoid re-rerun (~41 minutes required)\n",
    "\n",
    "# param_grid_5 = {'n_factors':[10, 20, 30], 'n_epochs': [10, 20, 30], \n",
    "#                 'lr_all': [0.005, 0.007, 0.009], 'reg_all': [0.01, 0.02, 0.04]}\n",
    "\n",
    "# gs_model_5 = GridSearchCV(SVDpp, param_grid = param_grid_5, n_jobs = -1, joblib_verbose = 5)\n",
    "# gs_model_5.fit(data)\n"
   ]
  },
  {
   "attachments": {
    "image.png": {
     "image/png": "[encoded data removed]"
    }
   },
   "cell_type": "markdown",
   "id": "f38104bc",
   "metadata": {},
   "source": [
    "Result: \n",
    "\n",
    "![image.png](attachment:image.png)\n",
    "\n",
    "* Note : Since it took 41minute to finish the process, might not be a good idea to rerun"
   ]
  },
  {
   "cell_type": "code",
   "execution_count": 64,
   "id": "10da6ae4",
   "metadata": {},
   "outputs": [
    {
     "data": {
      "text/plain": [
       "{'rmse': 4.6013136585104375, 'mae': 3.4057897377720465}"
      ]
     },
     "execution_count": 64,
     "metadata": {},
     "output_type": "execute_result"
    }
   ],
   "source": [
    "gs_model_5.best_score"
   ]
  },
  {
   "cell_type": "code",
   "execution_count": 65,
   "id": "e2fdb077",
   "metadata": {},
   "outputs": [
    {
     "data": {
      "text/plain": [
       "{'rmse': {'n_factors': 10, 'n_epochs': 10, 'lr_all': 0.005, 'reg_all': 0.04},\n",
       " 'mae': {'n_factors': 10, 'n_epochs': 10, 'lr_all': 0.005, 'reg_all': 0.04}}"
      ]
     },
     "execution_count": 65,
     "metadata": {},
     "output_type": "execute_result"
    }
   ],
   "source": [
    "gs_model_5.best_params"
   ]
  },
  {
   "cell_type": "markdown",
   "id": "17468ad8",
   "metadata": {},
   "source": [
    "Intepretations & thoughts process\n",
    "- Since `n_factors` show better result at **lower** range `10`, we will try compare with `5`\n",
    "- Since `n_epochs` show better result at **lower** range `10`, we will try compare with `5`\n",
    "- Since `lr_all` show better result at **lower** range `0.005`, we will try compare with `0.003 & 0.004`\n",
    "- Since `reg_all` show better result at **higher** range `0.04`, we will try compare with `0.05 & 0.06`"
   ]
  },
  {
   "cell_type": "code",
   "execution_count": 67,
   "id": "fbe8fa74",
   "metadata": {},
   "outputs": [
    {
     "name": "stderr",
     "output_type": "stream",
     "text": [
      "[Parallel(n_jobs=-1)]: Using backend LokyBackend with 16 concurrent workers.\n",
      "[Parallel(n_jobs=-1)]: Done  40 tasks      | elapsed:   58.3s\n",
      "[Parallel(n_jobs=-1)]: Done 130 tasks      | elapsed:  3.6min\n"
     ]
    },
    {
     "name": "stdout",
     "output_type": "stream",
     "text": [
      "5.597898391882579\n"
     ]
    },
    {
     "name": "stderr",
     "output_type": "stream",
     "text": [
      "[Parallel(n_jobs=-1)]: Done 180 out of 180 | elapsed:  5.6min finished\n"
     ]
    }
   ],
   "source": [
    "## uncomment to re-rerun (~5.6 minutes required)\n",
    "\n",
    "# param_grid_6 = {'n_factors':[5, 10], 'n_epochs': [5, 10], \n",
    "#                 'lr_all': [0.003, 0.004, 0.005], 'reg_all': [0.04, 0.05, 0.06]}\n",
    "\n",
    "# gs_model_6 = GridSearchCV(SVDpp, param_grid = param_grid_6, n_jobs = -1, joblib_verbose = 5)\n",
    "# gs_model_6.fit(data)"
   ]
  },
  {
   "attachments": {
    "image.png": {
     "image/png": "[encoded data removed]"
    }
   },
   "cell_type": "markdown",
   "id": "69f191d9",
   "metadata": {},
   "source": [
    "Result:\n",
    "![image.png](attachment:image.png)"
   ]
  },
  {
   "cell_type": "code",
   "execution_count": 68,
   "id": "d177ba8e",
   "metadata": {},
   "outputs": [
    {
     "data": {
      "text/plain": [
       "{'rmse': 4.407410899254617, 'mae': 3.2950079420342036}"
      ]
     },
     "execution_count": 68,
     "metadata": {},
     "output_type": "execute_result"
    }
   ],
   "source": [
    "gs_model_6.best_score"
   ]
  },
  {
   "cell_type": "code",
   "execution_count": 69,
   "id": "d3382e95",
   "metadata": {},
   "outputs": [
    {
     "data": {
      "text/plain": [
       "{'rmse': {'n_factors': 10, 'n_epochs': 5, 'lr_all': 0.003, 'reg_all': 0.04},\n",
       " 'mae': {'n_factors': 10, 'n_epochs': 10, 'lr_all': 0.003, 'reg_all': 0.05}}"
      ]
     },
     "execution_count": 69,
     "metadata": {},
     "output_type": "execute_result"
    }
   ],
   "source": [
    "gs_model_6.best_params"
   ]
  },
  {
   "cell_type": "markdown",
   "id": "de2a1aca",
   "metadata": {},
   "source": [
    "Intepretations & thoughts process\n",
    "- Since `n_factors` doesn't show better result {rmse}, we will stop tuning it and set as `10`\n",
    "- Since `n_epochs` show better result at **lower** range `5`, we will try compare with `3 & 4`\n",
    "- Since `lr_all` show better result at **lower** range `0.003`, we will try compare with `0.001 & 0.002`\n",
    "- Since `reg_all` doesn't show better result {rmse}, we will stop tuning it and set as `0.04`"
   ]
  },
  {
   "cell_type": "code",
   "execution_count": 70,
   "id": "07a7585f",
   "metadata": {},
   "outputs": [
    {
     "name": "stderr",
     "output_type": "stream",
     "text": [
      "[Parallel(n_jobs=-1)]: Using backend LokyBackend with 16 concurrent workers.\n",
      "[Parallel(n_jobs=-1)]: Done  24 out of  45 | elapsed:   33.4s remaining:   29.2s\n",
      "[Parallel(n_jobs=-1)]: Done  34 out of  45 | elapsed:   50.9s remaining:   16.4s\n",
      "[Parallel(n_jobs=-1)]: Done  45 out of  45 | elapsed:   51.8s finished\n"
     ]
    }
   ],
   "source": [
    "param_grid_7 = {'n_factors':[10], 'n_epochs': [3, 4, 5], \n",
    "                'lr_all': [0.001, 0.002, 0.003], 'reg_all': [0.04]}\n",
    "\n",
    "gs_model_7 = GridSearchCV(SVDpp, param_grid = param_grid_7, n_jobs = -1, joblib_verbose = 5)\n",
    "gs_model_7.fit(data)"
   ]
  },
  {
   "cell_type": "code",
   "execution_count": 71,
   "id": "36d87d8b",
   "metadata": {},
   "outputs": [
    {
     "data": {
      "text/plain": [
       "{'rmse': 4.401016558669431, 'mae': 3.3200587466279474}"
      ]
     },
     "execution_count": 71,
     "metadata": {},
     "output_type": "execute_result"
    }
   ],
   "source": [
    "gs_model_7.best_score"
   ]
  },
  {
   "cell_type": "code",
   "execution_count": 72,
   "id": "67eecf02",
   "metadata": {},
   "outputs": [
    {
     "data": {
      "text/plain": [
       "{'rmse': {'n_factors': 10, 'n_epochs': 5, 'lr_all': 0.002, 'reg_all': 0.04},\n",
       " 'mae': {'n_factors': 10, 'n_epochs': 5, 'lr_all': 0.002, 'reg_all': 0.04}}"
      ]
     },
     "execution_count": 72,
     "metadata": {},
     "output_type": "execute_result"
    }
   ],
   "source": [
    "gs_model_7.best_params"
   ]
  },
  {
   "cell_type": "markdown",
   "id": "b50ed1ae",
   "metadata": {},
   "source": [
    "Intepretations & thoughts process\n",
    "- Since `n_factors` doesn't show better result {rmse}, we will stop tuning it and set as `10`\n",
    "- Since `n_epochs` doesn't show better result {rmse}, we will stop tuning it and set as `5`\n",
    "- Since `lr_all` show better result at **middle** range `0.002`, we will set as `0.002`\n",
    "- Since `reg_all` doesn't show better result {rmse}, we will stop tuning it and set as `0.04`\n",
    "\n",
    "We will stop exploring apply the hyperparameter on trainset & testset"
   ]
  },
  {
   "cell_type": "code",
   "execution_count": 79,
   "id": "a7fd7639",
   "metadata": {},
   "outputs": [
    {
     "name": "stdout",
     "output_type": "stream",
     "text": [
      "RMSE: 4.3962\n",
      "4.396212009543398\n"
     ]
    }
   ],
   "source": [
    "chosen_SVDpp = SVDpp(n_factors= 10, n_epochs=5, lr_all=0.002, reg_all=0.04)\n",
    "chosen_SVDpp.fit(trainset)\n",
    "predictions_SVDpp = chosen_SVDpp.test(testset)\n",
    "accuracy_SVDpp = accuracy.rmse(predictions_SVDpp)\n",
    "print(accuracy_SVDpp)"
   ]
  },
  {
   "cell_type": "markdown",
   "id": "ac7f4449",
   "metadata": {},
   "source": [
    "`rmse` score for the chosen SVDpp model is __4.3962__."
   ]
  },
  {
   "cell_type": "markdown",
   "id": "0c4f2989",
   "metadata": {},
   "source": [
    "### 4.2.3: `Slope One`\n",
    "\n",
    "A simple yet accurate collaborative filtering algorithm.\n",
    "> No hyperparameter for tuning"
   ]
  },
  {
   "cell_type": "code",
   "execution_count": 80,
   "id": "04908537",
   "metadata": {},
   "outputs": [
    {
     "name": "stderr",
     "output_type": "stream",
     "text": [
      "<ipython-input-80-a7ed0cc085d0>:2: DeprecationWarning: `np.int` is a deprecated alias for the builtin `int`. To silence this warning, use `int` by itself. Doing this will not modify any behavior and is safe. When replacing `np.int`, you may wish to use e.g. `np.int64` or `np.int32` to specify the precision. If you wish to review your current use, check the release note link for additional information.\n",
      "Deprecated in NumPy 1.20; for more details and guidance: https://numpy.org/devdocs/release/1.20.0-notes.html#deprecations\n",
      "  slopeone.fit(trainset)\n"
     ]
    },
    {
     "name": "stdout",
     "output_type": "stream",
     "text": [
      "RMSE: 4.5380\n"
     ]
    }
   ],
   "source": [
    "slopeone = SlopeOne()\n",
    "slopeone.fit(trainset)\n",
    "predictions_s1 = slopeone.test(testset)\n",
    "accuracy_s1 = accuracy.rmse(predictions_s1)"
   ]
  },
  {
   "cell_type": "markdown",
   "id": "3e8970ae",
   "metadata": {},
   "source": [
    "`rmse` score for the chosen SlopeOne model is __4.5380__."
   ]
  },
  {
   "cell_type": "markdown",
   "id": "d4d44a07",
   "metadata": {},
   "source": [
    "### 4.2.4: `CoClustering`\n",
    "\n",
    "A collaborative filtering algorithm based on co-clustering.\n",
    "\n",
    "- `n_cltr_u` : Number of user clusters. Default is 3.\n",
    "- `n_cltr_i` :  Number of item clusters. Default is 3.\n",
    "- `n_epochs` : Number of iteration of the optimization loop. Default is 20.\n"
   ]
  },
  {
   "cell_type": "code",
   "execution_count": 81,
   "id": "024d7ea6",
   "metadata": {},
   "outputs": [
    {
     "name": "stderr",
     "output_type": "stream",
     "text": [
      "[Parallel(n_jobs=-1)]: Using backend LokyBackend with 16 concurrent workers.\n",
      "[Parallel(n_jobs=-1)]: Done  40 tasks      | elapsed:   13.4s\n",
      "[Parallel(n_jobs=-1)]: Done 132 out of 135 | elapsed:   39.5s remaining:    0.8s\n",
      "[Parallel(n_jobs=-1)]: Done 135 out of 135 | elapsed:   39.9s finished\n"
     ]
    }
   ],
   "source": [
    "param_grid_8 = {'n_cltr_u':[2, 3, 4], 'n_cltr_i': [2, 3, 4], 'n_epochs': [10, 20, 30]}\n",
    "\n",
    "gs_model_8 = GridSearchCV(CoClustering, param_grid = param_grid_8, n_jobs = -1, joblib_verbose = 5)\n",
    "gs_model_8.fit(data)"
   ]
  },
  {
   "cell_type": "code",
   "execution_count": 82,
   "id": "c14a2a9e",
   "metadata": {},
   "outputs": [
    {
     "data": {
      "text/plain": [
       "{'rmse': 4.5920449729965425, 'mae': 3.4012237122189006}"
      ]
     },
     "execution_count": 82,
     "metadata": {},
     "output_type": "execute_result"
    }
   ],
   "source": [
    "gs_model_8.best_score"
   ]
  },
  {
   "cell_type": "code",
   "execution_count": 83,
   "id": "5faedac7",
   "metadata": {},
   "outputs": [
    {
     "data": {
      "text/plain": [
       "{'rmse': {'n_cltr_u': 2, 'n_cltr_i': 3, 'n_epochs': 30},\n",
       " 'mae': {'n_cltr_u': 2, 'n_cltr_i': 3, 'n_epochs': 10}}"
      ]
     },
     "execution_count": 83,
     "metadata": {},
     "output_type": "execute_result"
    }
   ],
   "source": [
    "gs_model_8.best_params"
   ]
  },
  {
   "cell_type": "markdown",
   "id": "8b78b179",
   "metadata": {},
   "source": [
    "Intepretations & thoughts process\n",
    "- Since `n_cltr_u` show better result at **lower** range `2`, we will try compare with `1`\n",
    "- Since `n_cltr_i` show better result at **middle** range `3`, we will set as `3`\n",
    "- Since `n_epochs` show better result at **higher** range `30`, we will try compare with `40 & 50`"
   ]
  },
  {
   "cell_type": "code",
   "execution_count": 84,
   "id": "8db5d63c",
   "metadata": {},
   "outputs": [
    {
     "name": "stderr",
     "output_type": "stream",
     "text": [
      "[Parallel(n_jobs=-1)]: Using backend LokyBackend with 16 concurrent workers.\n",
      "[Parallel(n_jobs=-1)]: Done   6 out of  30 | elapsed:    6.5s remaining:   26.3s\n",
      "[Parallel(n_jobs=-1)]: Done  13 out of  30 | elapsed:    9.0s remaining:   11.7s\n",
      "[Parallel(n_jobs=-1)]: Done  20 out of  30 | elapsed:   10.1s remaining:    5.0s\n",
      "[Parallel(n_jobs=-1)]: Done  27 out of  30 | elapsed:   13.6s remaining:    1.4s\n",
      "[Parallel(n_jobs=-1)]: Done  30 out of  30 | elapsed:   14.3s finished\n"
     ]
    }
   ],
   "source": [
    "param_grid_9 = {'n_cltr_u':[1, 2], 'n_cltr_i': [3], 'n_epochs': [30, 40, 50]}\n",
    "\n",
    "gs_model_9 = GridSearchCV(CoClustering, param_grid = param_grid_9, n_jobs = -1, joblib_verbose = 5)\n",
    "gs_model_9.fit(data)"
   ]
  },
  {
   "cell_type": "code",
   "execution_count": 85,
   "id": "24e3dabb",
   "metadata": {},
   "outputs": [
    {
     "data": {
      "text/plain": [
       "{'rmse': 4.567399848705735, 'mae': 3.3907040873678262}"
      ]
     },
     "execution_count": 85,
     "metadata": {},
     "output_type": "execute_result"
    }
   ],
   "source": [
    "gs_model_9.best_score"
   ]
  },
  {
   "cell_type": "code",
   "execution_count": 86,
   "id": "4e109ae8",
   "metadata": {},
   "outputs": [
    {
     "data": {
      "text/plain": [
       "{'rmse': {'n_cltr_u': 1, 'n_cltr_i': 3, 'n_epochs': 30},\n",
       " 'mae': {'n_cltr_u': 1, 'n_cltr_i': 3, 'n_epochs': 30}}"
      ]
     },
     "execution_count": 86,
     "metadata": {},
     "output_type": "execute_result"
    }
   ],
   "source": [
    "gs_model_9.best_params"
   ]
  },
  {
   "cell_type": "markdown",
   "id": "2d30fdc9",
   "metadata": {},
   "source": [
    "Intepretations & thoughts process\n",
    "- Since `n_cltr_u` show better result at **lowest** range `1`, we will set as `1`\n",
    "- Since `n_cltr_i` doesn't show better result {rmse}, we will stop tuning it and set as `3`\n",
    "- Since `n_epochs` doesn't show better result {rmse}, we will stop tuning it and set as `30`"
   ]
  },
  {
   "cell_type": "code",
   "execution_count": 87,
   "id": "14b7cf58",
   "metadata": {},
   "outputs": [
    {
     "name": "stderr",
     "output_type": "stream",
     "text": [
      "<ipython-input-87-13b0258b4f57>:2: DeprecationWarning: `np.int` is a deprecated alias for the builtin `int`. To silence this warning, use `int` by itself. Doing this will not modify any behavior and is safe. When replacing `np.int`, you may wish to use e.g. `np.int64` or `np.int32` to specify the precision. If you wish to review your current use, check the release note link for additional information.\n",
      "Deprecated in NumPy 1.20; for more details and guidance: https://numpy.org/devdocs/release/1.20.0-notes.html#deprecations\n",
      "  coclustering.fit(trainset)\n"
     ]
    },
    {
     "name": "stdout",
     "output_type": "stream",
     "text": [
      "RMSE: 4.5731\n"
     ]
    }
   ],
   "source": [
    "coclustering = CoClustering(n_cltr_u = 1, n_cltr_i = 3, n_epochs = 30)\n",
    "coclustering.fit(trainset)\n",
    "predictions_cocl = coclustering.test(testset)\n",
    "accuracy_cocl = accuracy.rmse(predictions_cocl)"
   ]
  },
  {
   "cell_type": "markdown",
   "id": "6764cd83",
   "metadata": {},
   "source": [
    "`rmse` score for the chosen CoClustering model is __4.5731__."
   ]
  },
  {
   "cell_type": "markdown",
   "id": "e03dcd53",
   "metadata": {},
   "source": [
    "# Part 5: Model Performance"
   ]
  },
  {
   "cell_type": "markdown",
   "id": "cb187e21",
   "metadata": {},
   "source": [
    "## 5.1: Model Performance metrics"
   ]
  },
  {
   "cell_type": "code",
   "execution_count": 103,
   "id": "f06e5cf5",
   "metadata": {},
   "outputs": [
    {
     "data": {
      "text/html": [
       "<div>\n",
       "<style scoped>\n",
       "    .dataframe tbody tr th:only-of-type {\n",
       "        vertical-align: middle;\n",
       "    }\n",
       "\n",
       "    .dataframe tbody tr th {\n",
       "        vertical-align: top;\n",
       "    }\n",
       "\n",
       "    .dataframe thead th {\n",
       "        text-align: right;\n",
       "    }\n",
       "</style>\n",
       "<table border=\"1\" class=\"dataframe\">\n",
       "  <thead>\n",
       "    <tr style=\"text-align: right;\">\n",
       "      <th></th>\n",
       "      <th>Model Type</th>\n",
       "      <th>Model Name</th>\n",
       "      <th>Root Mean Squared Error</th>\n",
       "      <th>Mean Squared Error</th>\n",
       "      <th>Mean Absolute Error</th>\n",
       "      <th>Fraction of Concordant Pairs</th>\n",
       "    </tr>\n",
       "  </thead>\n",
       "  <tbody>\n",
       "    <tr>\n",
       "      <th>2</th>\n",
       "      <td>Model-based</td>\n",
       "      <td>SVD++</td>\n",
       "      <td>4.396212</td>\n",
       "      <td>19.326680</td>\n",
       "      <td>3.298829</td>\n",
       "      <td>0.562282</td>\n",
       "    </tr>\n",
       "    <tr>\n",
       "      <th>1</th>\n",
       "      <td>Model-based</td>\n",
       "      <td>SVD</td>\n",
       "      <td>4.436753</td>\n",
       "      <td>19.684773</td>\n",
       "      <td>3.347508</td>\n",
       "      <td>0.578480</td>\n",
       "    </tr>\n",
       "    <tr>\n",
       "      <th>3</th>\n",
       "      <td>Model-based</td>\n",
       "      <td>SlopeOne</td>\n",
       "      <td>4.537959</td>\n",
       "      <td>20.593073</td>\n",
       "      <td>3.361475</td>\n",
       "      <td>0.562952</td>\n",
       "    </tr>\n",
       "    <tr>\n",
       "      <th>0</th>\n",
       "      <td>Memory-based</td>\n",
       "      <td>KNNWithMeans</td>\n",
       "      <td>4.542634</td>\n",
       "      <td>20.635528</td>\n",
       "      <td>3.359994</td>\n",
       "      <td>0.579800</td>\n",
       "    </tr>\n",
       "    <tr>\n",
       "      <th>4</th>\n",
       "      <td>Model-based</td>\n",
       "      <td>CoClustering</td>\n",
       "      <td>4.573117</td>\n",
       "      <td>20.913403</td>\n",
       "      <td>3.395089</td>\n",
       "      <td>0.569040</td>\n",
       "    </tr>\n",
       "  </tbody>\n",
       "</table>\n",
       "</div>"
      ],
      "text/plain": [
       "     Model Type    Model Name  Root Mean Squared Error  Mean Squared Error  \\\n",
       "2   Model-based         SVD++                 4.396212           19.326680   \n",
       "1   Model-based           SVD                 4.436753           19.684773   \n",
       "3   Model-based      SlopeOne                 4.537959           20.593073   \n",
       "0  Memory-based  KNNWithMeans                 4.542634           20.635528   \n",
       "4   Model-based  CoClustering                 4.573117           20.913403   \n",
       "\n",
       "   Mean Absolute Error  Fraction of Concordant Pairs  \n",
       "2             3.298829                      0.562282  \n",
       "1             3.347508                      0.578480  \n",
       "3             3.361475                      0.562952  \n",
       "0             3.359994                      0.579800  \n",
       "4             3.395089                      0.569040  "
      ]
     },
     "execution_count": 103,
     "metadata": {},
     "output_type": "execute_result"
    }
   ],
   "source": [
    "# gives model report in dataframe\n",
    "def model_report(model_type, model_name, predictions) :\n",
    "\n",
    "    rmse = accuracy.rmse(predictions,verbose = False)\n",
    "    mse  = accuracy.mse(predictions, verbose = False)\n",
    "    mae  = accuracy.mae(predictions, verbose = False)\n",
    "    fcp  = accuracy.fcp(predictions, verbose = False)\n",
    " \n",
    "    df = pd.DataFrame({\"Model Type\"                  : [model_type],\n",
    "                       \"Model Name\"                  : [model_name],\n",
    "                       \"Root Mean Squared Error\"     : [rmse],\n",
    "                       \"Mean Squared Error\"          : [mse],\n",
    "                       \"Mean Absolute Error\"         : [mae],\n",
    "                       \"Fraction of Concordant Pairs\": [fcp],\n",
    "                      })\n",
    "    return df\n",
    "\n",
    "report_knn   = model_report('Memory-based', 'KNNWithMeans', predictions_knn)\n",
    "report_SVD   = model_report('Model-based' , 'SVD', predictions_SVD)\n",
    "report_SVDpp = model_report('Model-based' , 'SVD++', predictions_SVDpp)\n",
    "report_s1    = model_report('Model-based' , 'SlopeOne', predictions_s1)\n",
    "report_cocl  = model_report('Model-based' , 'CoClustering', predictions_cocl)\n",
    "\n",
    "#concat all models\n",
    "model_performances = pd.concat([report_knn,report_SVD,report_SVDpp,report_s1,report_cocl], axis = 0).reset_index()\n",
    "\n",
    "model_performances = model_performances.drop(columns = \"index\", axis =1)\n",
    "\n",
    "model_performances.sort_values(by = 'Root Mean Squared Error', ascending = True)"
   ]
  },
  {
   "cell_type": "markdown",
   "id": "f14db248",
   "metadata": {},
   "source": [
    "As we can observed from above, `SVD++` has the lowest Root Mean Squared Error compared to the rest, </br>\n",
    "However it also has the lowest `FCP` (Higher is better).\n",
    "\n",
    "Also due to the facts that `SVD++` takes extremely large time to build the model compare to the 2nd Lowest `RSME` which is `SVD` </br>\n",
    "Not to mentioned that `SVD` also has the 2nd highest `FCP` across all models\n",
    "\n",
    "For this Jester Recommendation Engine, we can conclude \n",
    "\n",
    "* For Lowest RMSE --> `SVD++`\n",
    "* For Highest FCP --> `KNNWithMeans`\n",
    "* For Overall Performance --> `SVD `\n",
    "\n",
    "Fraction of Concordant Pairs (FCP)\n",
    "> If product A receives a higher rating than product B from a user and the model predicts the same, A and B are a concordant pair, otherwise a discordant pair. FCP is simply the fraction of concordant pairs among all the pairs (sum over all users)."
   ]
  },
  {
   "cell_type": "markdown",
   "id": "99421303",
   "metadata": {},
   "source": [
    "# Part 6: Recommendation Engine\n",
    "\n",
    "Get the k nearest neighbors of an item"
   ]
  },
  {
   "cell_type": "code",
   "execution_count": 172,
   "id": "314d0462",
   "metadata": {},
   "outputs": [
    {
     "name": "stdout",
     "output_type": "stream",
     "text": [
      "Computing the pearson similarity matrix...\n",
      "Done computing similarity matrix.\n",
      "\n",
      "\n",
      "\n",
      "input_jokes:  Q: How do you keep a computer programmer in the  shower all day long?  A: Give them a shampoo with a label that says \"rinse, lather, repeat\".\n",
      "\n",
      "\n",
      "\n",
      "The 10 nearest neighbors of input_jokes are:\n",
      "1:  What is the rallying cry of the International Dyslexic Pride movement? Dyslexics Untie!\n",
      "\n",
      "2:  A couple has been married for 75 years. For the husband's 95th birthday, his wife decides to surprise him by hiring a prostitute. That day, the doorbell rings. The husband uses his walker to get to the door and opens it.  A 21-year-old in a latex outfit smiles and says, \"Hi, I here to give you super sex!\"  The old man says, \"I'll take the soup.\"\n",
      "\n",
      "3:  What do you call an American in the finals of the world cup?  \"Hey Beer Man!\"\n",
      "\n",
      "4:  An artist asked the gallery owner if there had been any interest in his paintings currently on display. \"I've got good news and bad news,\" the owner replied. \"The good news is that a gentleman inquired about your work and wondered if it would appreciate in value after your death. When I told him it would, he bought all fifteen of your paintings.\" \"That's wonderful!\" the artist exclaimed. \"What's the bad news?\" With concern, the gallery owner replied: \"The guy was your doctor.\"\n",
      "\n",
      "5:  The new employee stood before the paper shredder looking confused. \"Need some help?\" a secretary, walking by, asked. \"Yes,\" he replied, \"how does this thing work?\" \"Simple,\" she said, taking the fat report from his hand and feeding it into the shredder.\"Thanks, but where do the copies come out?\"\n",
      "\n",
      "6:  How many teddybears does it take to change a lightbulb?  It takes only one teddybear, but it takes a whole lot of lightbulbs.\n",
      "\n",
      "7:  An engineer, a physicist and a mathematician are sleeping in a room. There is a fire in the room. The engineer wakes up, sees the fire, picks up the bucket of water and douses the fire and goes back to sleep.   Again there is fire in the room. This time, the physicist wakes up, notices the bucket, fills it with water, calculates the optimal trajectory and douses the fire in minimum amount of water and goes back to sleep.   Again there is fire. This time the mathematician wakes up.  He looks at the fire, looks at the bucket and the water and exclaims, \"A solution exists\" and goes back to sleep.\n",
      "\n",
      "8:  Employer to applicant: \"In this job we need someone who is responsible.\"  Applicant: \"I'm the one you want. On my last job, every time anything went wrong, they said I was responsible.\"\n",
      "\n",
      "9:  \"Do you believe in life after death?\" the boss asked one of his employees.\"Yes, sir,\" the new recruit replied. \"Well, then, that makes everything just fine...\" the boss went on. \"After you left early yesterday to go to your grandmother's funeral, she stopped in to see you.\"\n",
      "\n",
      "10:  A neutron walks into a bar and orders a drink. \"How much do I owe you?\" the neutron asks.  The bartender replies, \"for you, no charge.\"\n",
      "\n"
     ]
    }
   ],
   "source": [
    "input_jokes = 'jokes_82'\n",
    "\n",
    "# Read the mappings raw id <-> jokes name\n",
    "name_to_rid = {}\n",
    "rid_to_name = {}\n",
    "\n",
    "for i in trainsetfull_raw_iids:\n",
    "    name_to_rid[i] = trainsetfull_iids[trainsetfull_raw_iids.index(i)]\n",
    "    \n",
    "for i in trainsetfull_iids:\n",
    "    rid_to_name[i] = trainsetfull_raw_iids[trainsetfull_iids.index(i)]\n",
    "    \n",
    "# based on above performance results\n",
    "chosen_k = 40\n",
    "chosen_sim_option = sim_pearson\n",
    "\n",
    "# First, train the algortihm to compute the similarities between items\n",
    "algo = KNNWithMeans(k = chosen_k, sim_options = chosen_sim_option)\n",
    "algo.fit(trainsetfull)\n",
    "\n",
    "# Retrieve inner id of jokes_82\n",
    "input_jokes_raw_id = name_to_rid[input_jokes]\n",
    "\n",
    "# Retrieve the nearest neighbors of jokes_82 using inner id.\n",
    "input_jokes_neighbors = algo.get_neighbors(input_jokes_raw_id, k=10)\n",
    "\n",
    "# Convert inner ids of the neighbors into names.\n",
    "input_jokes_neighbors = (algo.trainset.to_raw_iid(inner_id) for inner_id in input_jokes_neighbors)\n",
    "\n",
    "print('\\n\\n')\n",
    "print('input_jokes:  ' + df_jokes.loc[input_jokes][0])\n",
    "print('\\n\\n')\n",
    "\n",
    "print('The 10 nearest neighbors of input_jokes are:')\n",
    "for count, jokes in enumerate(input_jokes_neighbors):\n",
    "    print( str(count+1) + ':  '     + df_jokes.loc[jokes][0] + '\\n')"
   ]
  },
  {
   "cell_type": "code",
   "execution_count": null,
   "id": "34a0ac06",
   "metadata": {},
   "outputs": [],
   "source": []
  }
 ],
 "metadata": {
  "kernelspec": {
   "display_name": "Python 3",
   "language": "python",
   "name": "python3"
  },
  "language_info": {
   "codemirror_mode": {
    "name": "ipython",
    "version": 3
   },
   "file_extension": ".py",
   "mimetype": "text/x-python",
   "name": "python",
   "nbconvert_exporter": "python",
   "pygments_lexer": "ipython3",
   "version": "3.8.11"
  }
 },
 "nbformat": 4,
 "nbformat_minor": 5
}
